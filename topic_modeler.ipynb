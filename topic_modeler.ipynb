{
 "cells": [
  {
   "cell_type": "code",
   "execution_count": 1,
   "metadata": {},
   "outputs": [],
   "source": [
    "import pandas as pd\n",
    "data = pd.read_csv('abcnews-date-text.csv', error_bad_lines=False);\n",
    "data_text = data[['headline_text']]\n",
    "data_text['index'] = data_text.index\n",
    "documents = data_text"
   ]
  },
  {
   "cell_type": "code",
   "execution_count": 2,
   "metadata": {},
   "outputs": [
    {
     "name": "stdout",
     "output_type": "stream",
     "text": [
      "1103663\n",
      "                                       headline_text  index\n",
      "0  aba decides against community broadcasting lic...      0\n",
      "1     act fire witnesses must be aware of defamation      1\n",
      "2     a g calls for infrastructure protection summit      2\n",
      "3           air nz staff in aust strike for pay rise      3\n",
      "4      air nz strike to affect australian travellers      4\n"
     ]
    }
   ],
   "source": [
    "print(len(documents))\n",
    "print(documents[:5])"
   ]
  },
  {
   "cell_type": "code",
   "execution_count": 3,
   "metadata": {},
   "outputs": [
    {
     "name": "stdout",
     "output_type": "stream",
     "text": [
      "Requirement already satisfied: gensim in c:\\users\\kevin\\appdata\\local\\continuum\\anaconda3\\lib\\site-packages (3.8.0)\n",
      "Requirement already satisfied: numpy>=1.11.3 in c:\\users\\kevin\\appdata\\local\\continuum\\anaconda3\\lib\\site-packages (from gensim) (1.16.4)\n",
      "Requirement already satisfied: six>=1.5.0 in c:\\users\\kevin\\appdata\\local\\continuum\\anaconda3\\lib\\site-packages (from gensim) (1.12.0)\n",
      "Requirement already satisfied: smart-open>=1.7.0 in c:\\users\\kevin\\appdata\\local\\continuum\\anaconda3\\lib\\site-packages (from gensim) (1.8.4)\n",
      "Requirement already satisfied: scipy>=0.18.1 in c:\\users\\kevin\\appdata\\local\\continuum\\anaconda3\\lib\\site-packages (from gensim) (1.2.1)\n",
      "Requirement already satisfied: boto>=2.32 in c:\\users\\kevin\\appdata\\local\\continuum\\anaconda3\\lib\\site-packages (from smart-open>=1.7.0->gensim) (2.49.0)\n",
      "Requirement already satisfied: boto3 in c:\\users\\kevin\\appdata\\local\\continuum\\anaconda3\\lib\\site-packages (from smart-open>=1.7.0->gensim) (1.9.215)\n",
      "Requirement already satisfied: requests in c:\\users\\kevin\\appdata\\local\\continuum\\anaconda3\\lib\\site-packages (from smart-open>=1.7.0->gensim) (2.22.0)\n",
      "Requirement already satisfied: s3transfer<0.3.0,>=0.2.0 in c:\\users\\kevin\\appdata\\local\\continuum\\anaconda3\\lib\\site-packages (from boto3->smart-open>=1.7.0->gensim) (0.2.1)\n",
      "Requirement already satisfied: jmespath<1.0.0,>=0.7.1 in c:\\users\\kevin\\appdata\\local\\continuum\\anaconda3\\lib\\site-packages (from boto3->smart-open>=1.7.0->gensim) (0.9.4)\n",
      "Requirement already satisfied: botocore<1.13.0,>=1.12.215 in c:\\users\\kevin\\appdata\\local\\continuum\\anaconda3\\lib\\site-packages (from boto3->smart-open>=1.7.0->gensim) (1.12.215)\n",
      "Requirement already satisfied: certifi>=2017.4.17 in c:\\users\\kevin\\appdata\\local\\continuum\\anaconda3\\lib\\site-packages (from requests->smart-open>=1.7.0->gensim) (2019.6.16)\n",
      "Requirement already satisfied: urllib3!=1.25.0,!=1.25.1,<1.26,>=1.21.1 in c:\\users\\kevin\\appdata\\local\\continuum\\anaconda3\\lib\\site-packages (from requests->smart-open>=1.7.0->gensim) (1.24.2)\n",
      "Requirement already satisfied: idna<2.9,>=2.5 in c:\\users\\kevin\\appdata\\local\\continuum\\anaconda3\\lib\\site-packages (from requests->smart-open>=1.7.0->gensim) (2.8)\n",
      "Requirement already satisfied: chardet<3.1.0,>=3.0.2 in c:\\users\\kevin\\appdata\\local\\continuum\\anaconda3\\lib\\site-packages (from requests->smart-open>=1.7.0->gensim) (3.0.4)\n",
      "Requirement already satisfied: docutils<0.16,>=0.10 in c:\\users\\kevin\\appdata\\local\\continuum\\anaconda3\\lib\\site-packages (from botocore<1.13.0,>=1.12.215->boto3->smart-open>=1.7.0->gensim) (0.14)\n",
      "Requirement already satisfied: python-dateutil<3.0.0,>=2.1; python_version >= \"2.7\" in c:\\users\\kevin\\appdata\\local\\continuum\\anaconda3\\lib\\site-packages (from botocore<1.13.0,>=1.12.215->boto3->smart-open>=1.7.0->gensim) (2.8.0)\n",
      "Note: you may need to restart the kernel to use updated packages.\n"
     ]
    }
   ],
   "source": [
    "pip install gensim"
   ]
  },
  {
   "cell_type": "code",
   "execution_count": 4,
   "metadata": {
    "scrolled": true
   },
   "outputs": [
    {
     "name": "stdout",
     "output_type": "stream",
     "text": [
      "Requirement already satisfied: nltk in c:\\users\\kevin\\appdata\\local\\continuum\\anaconda3\\lib\\site-packages (3.4.4)\n",
      "Requirement already satisfied: six in c:\\users\\kevin\\appdata\\local\\continuum\\anaconda3\\lib\\site-packages (from nltk) (1.12.0)\n",
      "Note: you may need to restart the kernel to use updated packages.\n"
     ]
    }
   ],
   "source": [
    "pip install nltk"
   ]
  },
  {
   "cell_type": "code",
   "execution_count": 5,
   "metadata": {},
   "outputs": [
    {
     "name": "stderr",
     "output_type": "stream",
     "text": [
      "[nltk_data] Downloading package punkt to\n",
      "[nltk_data]     C:\\Users\\kevin\\AppData\\Roaming\\nltk_data...\n",
      "[nltk_data]   Package punkt is already up-to-date!\n"
     ]
    },
    {
     "data": {
      "text/plain": [
       "True"
      ]
     },
     "execution_count": 5,
     "metadata": {},
     "output_type": "execute_result"
    }
   ],
   "source": [
    "import nltk\n",
    "nltk.download('punkt')"
   ]
  },
  {
   "cell_type": "code",
   "execution_count": 6,
   "metadata": {},
   "outputs": [
    {
     "name": "stderr",
     "output_type": "stream",
     "text": [
      "[nltk_data] Downloading package wordnet to\n",
      "[nltk_data]     C:\\Users\\kevin\\AppData\\Roaming\\nltk_data...\n",
      "[nltk_data]   Package wordnet is already up-to-date!\n"
     ]
    },
    {
     "data": {
      "text/plain": [
       "True"
      ]
     },
     "execution_count": 6,
     "metadata": {},
     "output_type": "execute_result"
    }
   ],
   "source": [
    "import gensim\n",
    "from gensim.utils import simple_preprocess\n",
    "from gensim.parsing.preprocessing import STOPWORDS\n",
    "from nltk.stem import WordNetLemmatizer, SnowballStemmer\n",
    "from nltk.stem.porter import *\n",
    "import numpy as np\n",
    "np.random.seed(2018)\n",
    "import nltk\n",
    "nltk.download('wordnet')"
   ]
  },
  {
   "cell_type": "code",
   "execution_count": 9,
   "metadata": {},
   "outputs": [
    {
     "name": "stdout",
     "output_type": "stream",
     "text": [
      "go\n"
     ]
    }
   ],
   "source": [
    "print(WordNetLemmatizer().lemmatize('went', pos='v'))"
   ]
  },
  {
   "cell_type": "code",
   "execution_count": 10,
   "metadata": {},
   "outputs": [
    {
     "data": {
      "text/html": [
       "<div>\n",
       "<style scoped>\n",
       "    .dataframe tbody tr th:only-of-type {\n",
       "        vertical-align: middle;\n",
       "    }\n",
       "\n",
       "    .dataframe tbody tr th {\n",
       "        vertical-align: top;\n",
       "    }\n",
       "\n",
       "    .dataframe thead th {\n",
       "        text-align: right;\n",
       "    }\n",
       "</style>\n",
       "<table border=\"1\" class=\"dataframe\">\n",
       "  <thead>\n",
       "    <tr style=\"text-align: right;\">\n",
       "      <th></th>\n",
       "      <th>original word</th>\n",
       "      <th>stemmed</th>\n",
       "    </tr>\n",
       "  </thead>\n",
       "  <tbody>\n",
       "    <tr>\n",
       "      <th>0</th>\n",
       "      <td>caresses</td>\n",
       "      <td>caress</td>\n",
       "    </tr>\n",
       "    <tr>\n",
       "      <th>1</th>\n",
       "      <td>flies</td>\n",
       "      <td>fli</td>\n",
       "    </tr>\n",
       "    <tr>\n",
       "      <th>2</th>\n",
       "      <td>dies</td>\n",
       "      <td>die</td>\n",
       "    </tr>\n",
       "    <tr>\n",
       "      <th>3</th>\n",
       "      <td>mules</td>\n",
       "      <td>mule</td>\n",
       "    </tr>\n",
       "    <tr>\n",
       "      <th>4</th>\n",
       "      <td>denied</td>\n",
       "      <td>deni</td>\n",
       "    </tr>\n",
       "    <tr>\n",
       "      <th>5</th>\n",
       "      <td>died</td>\n",
       "      <td>die</td>\n",
       "    </tr>\n",
       "    <tr>\n",
       "      <th>6</th>\n",
       "      <td>agreed</td>\n",
       "      <td>agre</td>\n",
       "    </tr>\n",
       "    <tr>\n",
       "      <th>7</th>\n",
       "      <td>owned</td>\n",
       "      <td>own</td>\n",
       "    </tr>\n",
       "    <tr>\n",
       "      <th>8</th>\n",
       "      <td>humbled</td>\n",
       "      <td>humbl</td>\n",
       "    </tr>\n",
       "    <tr>\n",
       "      <th>9</th>\n",
       "      <td>sized</td>\n",
       "      <td>size</td>\n",
       "    </tr>\n",
       "    <tr>\n",
       "      <th>10</th>\n",
       "      <td>meeting</td>\n",
       "      <td>meet</td>\n",
       "    </tr>\n",
       "    <tr>\n",
       "      <th>11</th>\n",
       "      <td>stating</td>\n",
       "      <td>state</td>\n",
       "    </tr>\n",
       "    <tr>\n",
       "      <th>12</th>\n",
       "      <td>siezing</td>\n",
       "      <td>siez</td>\n",
       "    </tr>\n",
       "    <tr>\n",
       "      <th>13</th>\n",
       "      <td>itemization</td>\n",
       "      <td>item</td>\n",
       "    </tr>\n",
       "    <tr>\n",
       "      <th>14</th>\n",
       "      <td>sensational</td>\n",
       "      <td>sensat</td>\n",
       "    </tr>\n",
       "    <tr>\n",
       "      <th>15</th>\n",
       "      <td>traditional</td>\n",
       "      <td>tradit</td>\n",
       "    </tr>\n",
       "    <tr>\n",
       "      <th>16</th>\n",
       "      <td>reference</td>\n",
       "      <td>refer</td>\n",
       "    </tr>\n",
       "    <tr>\n",
       "      <th>17</th>\n",
       "      <td>colonizer</td>\n",
       "      <td>colon</td>\n",
       "    </tr>\n",
       "    <tr>\n",
       "      <th>18</th>\n",
       "      <td>plotted</td>\n",
       "      <td>plot</td>\n",
       "    </tr>\n",
       "  </tbody>\n",
       "</table>\n",
       "</div>"
      ],
      "text/plain": [
       "   original word stemmed\n",
       "0       caresses  caress\n",
       "1          flies     fli\n",
       "2           dies     die\n",
       "3          mules    mule\n",
       "4         denied    deni\n",
       "5           died     die\n",
       "6         agreed    agre\n",
       "7          owned     own\n",
       "8        humbled   humbl\n",
       "9          sized    size\n",
       "10       meeting    meet\n",
       "11       stating   state\n",
       "12       siezing    siez\n",
       "13   itemization    item\n",
       "14   sensational  sensat\n",
       "15   traditional  tradit\n",
       "16     reference   refer\n",
       "17     colonizer   colon\n",
       "18       plotted    plot"
      ]
     },
     "execution_count": 10,
     "metadata": {},
     "output_type": "execute_result"
    }
   ],
   "source": [
    "stemmer = SnowballStemmer('english')\n",
    "original_words = ['caresses', 'flies', 'dies', 'mules', 'denied','died', 'agreed', 'owned', \n",
    "           'humbled', 'sized','meeting', 'stating', 'siezing', 'itemization','sensational', \n",
    "           'traditional', 'reference', 'colonizer','plotted']\n",
    "singles = [stemmer.stem(plural) for plural in original_words]\n",
    "pd.DataFrame(data = {'original word': original_words, 'stemmed': singles})"
   ]
  },
  {
   "cell_type": "code",
   "execution_count": 11,
   "metadata": {},
   "outputs": [],
   "source": [
    "def lemmatize_stemming(text):\n",
    "    return stemmer.stem(WordNetLemmatizer().lemmatize(text, pos='v'))\n",
    "\n",
    "def preprocess(text):\n",
    "    result = []\n",
    "    for token in gensim.utils.simple_preprocess(text):\n",
    "        if token not in gensim.parsing.preprocessing.STOPWORDS and len(token) > 3:\n",
    "            result.append(lemmatize_stemming(token))\n",
    "    return result"
   ]
  },
  {
   "cell_type": "code",
   "execution_count": 12,
   "metadata": {},
   "outputs": [
    {
     "name": "stdout",
     "output_type": "stream",
     "text": [
      "original document: \n",
      "['iran', 'military', 'plane', 'crash', 'kills', '302']\n",
      "\n",
      "\n",
      " tokenized and lemmatized document: \n",
      "['iran', 'militari', 'plane', 'crash', 'kill']\n"
     ]
    }
   ],
   "source": [
    "doc_sample = documents[documents['index'] == 300].values[0][0]\n",
    "print('original document: ')\n",
    "words = []\n",
    "for word in doc_sample.split(' '):\n",
    "    words.append(word)\n",
    "print(words)\n",
    "print('\\n\\n tokenized and lemmatized document: ')\n",
    "print(preprocess(doc_sample)"
   ]
  },
  {
   "cell_type": "code",
   "execution_count": 13,
   "metadata": {},
   "outputs": [
    {
     "data": {
      "text/plain": [
       "0            [decid, communiti, broadcast, licenc]\n",
       "1                               [wit, awar, defam]\n",
       "2           [call, infrastructur, protect, summit]\n",
       "3                      [staff, aust, strike, rise]\n",
       "4             [strike, affect, australian, travel]\n",
       "5               [ambiti, olsson, win, tripl, jump]\n",
       "6           [antic, delight, record, break, barca]\n",
       "7    [aussi, qualifi, stosur, wast, memphi, match]\n",
       "8            [aust, address, secur, council, iraq]\n",
       "9                         [australia, lock, timet]\n",
       "Name: headline_text, dtype: object"
      ]
     },
     "execution_count": 13,
     "metadata": {},
     "output_type": "execute_result"
    }
   ],
   "source": [
    "processed_docs = documents['headline_text'].map(preprocess)\n",
    "processed_docs[:10]"
   ]
  },
  {
   "cell_type": "code",
   "execution_count": 15,
   "metadata": {},
   "outputs": [],
   "source": [
    "dictionary = gensim.corpora.Dictionary(processed_docs)"
   ]
  },
  {
   "cell_type": "code",
   "execution_count": 17,
   "metadata": {},
   "outputs": [
    {
     "name": "stdout",
     "output_type": "stream",
     "text": [
      "0 broadcast\n",
      "1 communiti\n",
      "2 decid\n",
      "3 licenc\n",
      "4 awar\n",
      "5 defam\n",
      "6 wit\n",
      "7 call\n",
      "8 infrastructur\n",
      "9 protect\n",
      "10 summit\n"
     ]
    }
   ],
   "source": [
    "count = 0\n",
    "for k, v in dictionary.iteritems():\n",
    "    print(k, v)\n",
    "    count += 1\n",
    "    if count > 10:\n",
    "        break"
   ]
  },
  {
   "cell_type": "code",
   "execution_count": 18,
   "metadata": {},
   "outputs": [],
   "source": [
    "dictionary.filter_extremes(no_below=15, no_above=0.5, keep_n=100000)"
   ]
  },
  {
   "cell_type": "code",
   "execution_count": 19,
   "metadata": {},
   "outputs": [
    {
     "data": {
      "text/plain": [
       "[(27, 1), (137, 1), (3970, 1)]"
      ]
     },
     "execution_count": 19,
     "metadata": {},
     "output_type": "execute_result"
    }
   ],
   "source": [
    "bow_corpus = [dictionary.doc2bow(doc) for doc in processed_docs]\n",
    "bow_corpus[4209]"
   ]
  },
  {
   "cell_type": "code",
   "execution_count": 20,
   "metadata": {},
   "outputs": [
    {
     "name": "stdout",
     "output_type": "stream",
     "text": [
      "Word 27 (\"aussi\") appears 1 time.\n",
      "Word 137 (\"expect\") appears 1 time.\n",
      "Word 3970 (\"fleme\") appears 1 time.\n"
     ]
    }
   ],
   "source": [
    "bow_doc_4209 = bow_corpus[4209]\n",
    "for i in range(len(bow_doc_4209)):\n",
    "    print(\"Word {} (\\\"{}\\\") appears {} time.\".format(bow_doc_4209[i][0], \n",
    "                                               dictionary[bow_doc_4209[i][0]], \n",
    "bow_doc_4209[i][1]))"
   ]
  },
  {
   "cell_type": "code",
   "execution_count": 23,
   "metadata": {},
   "outputs": [],
   "source": [
    "from gensim import corpora, models\n",
    "\n",
    "tfidf = models.TfidfModel(bow_corpus)"
   ]
  },
  {
   "cell_type": "code",
   "execution_count": 24,
   "metadata": {},
   "outputs": [],
   "source": [
    "corpus_tfidf = tfidf[bow_corpus]"
   ]
  },
  {
   "cell_type": "code",
   "execution_count": 25,
   "metadata": {},
   "outputs": [
    {
     "name": "stdout",
     "output_type": "stream",
     "text": [
      "[(0, 0.5893154583024485),\n",
      " (1, 0.3892866165028569),\n",
      " (2, 0.49651921997736453),\n",
      " (3, 0.5046106271280878)]\n"
     ]
    }
   ],
   "source": [
    "from pprint import pprint\n",
    "\n",
    "for doc in corpus_tfidf:\n",
    "    pprint(doc)\n",
    "    break"
   ]
  },
  {
   "cell_type": "code",
   "execution_count": 26,
   "metadata": {},
   "outputs": [],
   "source": [
    "lda_model = gensim.models.LdaMulticore(bow_corpus, num_topics=10, id2word=dictionary, passes=2, workers=2)"
   ]
  },
  {
   "cell_type": "code",
   "execution_count": 27,
   "metadata": {},
   "outputs": [
    {
     "name": "stdout",
     "output_type": "stream",
     "text": [
      "Topic: 0 \n",
      "Words: 0.022*\"warn\" + 0.020*\"market\" + 0.018*\"hospit\" + 0.016*\"health\" + 0.014*\"share\" + 0.014*\"break\" + 0.014*\"minist\" + 0.013*\"school\" + 0.013*\"student\" + 0.013*\"worker\"\n",
      "Topic: 1 \n",
      "Words: 0.026*\"adelaid\" + 0.022*\"test\" + 0.017*\"open\" + 0.017*\"tasmanian\" + 0.017*\"win\" + 0.014*\"melbourn\" + 0.013*\"australian\" + 0.012*\"vote\" + 0.011*\"darwin\" + 0.011*\"parti\"\n",
      "Topic: 2 \n",
      "Words: 0.024*\"chang\" + 0.019*\"miss\" + 0.017*\"tasmania\" + 0.014*\"farmer\" + 0.014*\"concern\" + 0.013*\"fall\" + 0.013*\"busi\" + 0.013*\"show\" + 0.012*\"price\" + 0.012*\"search\"\n",
      "Topic: 3 \n",
      "Words: 0.030*\"govern\" + 0.022*\"south\" + 0.021*\"north\" + 0.017*\"countri\" + 0.015*\"rural\" + 0.015*\"australia\" + 0.014*\"hour\" + 0.014*\"west\" + 0.013*\"indigen\" + 0.011*\"communiti\"\n",
      "Topic: 4 \n",
      "Words: 0.021*\"die\" + 0.019*\"live\" + 0.017*\"donald\" + 0.016*\"coast\" + 0.014*\"gold\" + 0.014*\"lose\" + 0.013*\"abus\" + 0.013*\"return\" + 0.012*\"park\" + 0.012*\"royal\"\n",
      "Topic: 5 \n",
      "Words: 0.027*\"elect\" + 0.022*\"sydney\" + 0.017*\"say\" + 0.014*\"labor\" + 0.014*\"record\" + 0.013*\"time\" + 0.012*\"call\" + 0.012*\"train\" + 0.011*\"polit\" + 0.010*\"budget\"\n",
      "Topic: 6 \n",
      "Words: 0.037*\"polic\" + 0.028*\"charg\" + 0.026*\"court\" + 0.020*\"murder\" + 0.017*\"face\" + 0.017*\"death\" + 0.015*\"woman\" + 0.015*\"alleg\" + 0.014*\"jail\" + 0.014*\"interview\"\n",
      "Topic: 7 \n",
      "Words: 0.035*\"trump\" + 0.021*\"australia\" + 0.020*\"world\" + 0.016*\"final\" + 0.016*\"china\" + 0.014*\"rise\" + 0.013*\"island\" + 0.012*\"leagu\" + 0.012*\"take\" + 0.011*\"meet\"\n",
      "Topic: 8 \n",
      "Words: 0.038*\"year\" + 0.030*\"queensland\" + 0.022*\"canberra\" + 0.014*\"investig\" + 0.014*\"children\" + 0.014*\"hous\" + 0.011*\"releas\" + 0.011*\"game\" + 0.010*\"storm\" + 0.010*\"life\"\n",
      "Topic: 9 \n",
      "Words: 0.026*\"kill\" + 0.023*\"home\" + 0.020*\"attack\" + 0.019*\"crash\" + 0.017*\"turnbul\" + 0.014*\"protest\" + 0.014*\"road\" + 0.014*\"polic\" + 0.013*\"driver\" + 0.012*\"farm\"\n"
     ]
    }
   ],
   "source": [
    "for idx, topic in lda_model.print_topics(-1):\n",
    "    print('Topic: {} \\nWords: {}'.format(idx, topic))"
   ]
  },
  {
   "cell_type": "code",
   "execution_count": 28,
   "metadata": {},
   "outputs": [
    {
     "name": "stdout",
     "output_type": "stream",
     "text": [
      "Topic: 0 Word: 0.011*\"coast\" + 0.010*\"south\" + 0.009*\"sport\" + 0.009*\"north\" + 0.007*\"east\" + 0.007*\"marriag\" + 0.007*\"west\" + 0.007*\"wednesday\" + 0.007*\"march\" + 0.006*\"festiv\"\n",
      "Topic: 1 Word: 0.010*\"donald\" + 0.009*\"royal\" + 0.008*\"commiss\" + 0.008*\"david\" + 0.008*\"crash\" + 0.007*\"hobart\" + 0.007*\"thursday\" + 0.006*\"energi\" + 0.006*\"truck\" + 0.006*\"scott\"\n",
      "Topic: 2 Word: 0.010*\"elect\" + 0.009*\"abbott\" + 0.008*\"juli\" + 0.007*\"peter\" + 0.007*\"care\" + 0.006*\"toni\" + 0.006*\"liber\" + 0.006*\"parti\" + 0.005*\"say\" + 0.005*\"search\"\n",
      "Topic: 3 Word: 0.017*\"countri\" + 0.016*\"hour\" + 0.008*\"podcast\" + 0.008*\"farm\" + 0.007*\"farmer\" + 0.007*\"price\" + 0.006*\"water\" + 0.005*\"council\" + 0.005*\"rural\" + 0.005*\"industri\"\n",
      "Topic: 4 Word: 0.017*\"govern\" + 0.008*\"say\" + 0.007*\"minist\" + 0.007*\"michael\" + 0.006*\"state\" + 0.006*\"mark\" + 0.006*\"june\" + 0.005*\"stori\" + 0.005*\"andrew\" + 0.005*\"educ\"\n",
      "Topic: 5 Word: 0.015*\"interview\" + 0.009*\"final\" + 0.009*\"australia\" + 0.008*\"leagu\" + 0.008*\"world\" + 0.006*\"test\" + 0.006*\"rugbi\" + 0.006*\"friday\" + 0.006*\"beat\" + 0.005*\"cricket\"\n",
      "Topic: 6 Word: 0.013*\"queensland\" + 0.012*\"turnbul\" + 0.012*\"weather\" + 0.010*\"violenc\" + 0.010*\"victoria\" + 0.008*\"septemb\" + 0.007*\"perth\" + 0.007*\"domest\" + 0.007*\"inquest\" + 0.007*\"malcolm\"\n",
      "Topic: 7 Word: 0.010*\"grandstand\" + 0.008*\"christma\" + 0.008*\"octob\" + 0.008*\"mental\" + 0.008*\"asylum\" + 0.007*\"seeker\" + 0.006*\"health\" + 0.006*\"histori\" + 0.006*\"explain\" + 0.005*\"youth\"\n",
      "Topic: 8 Word: 0.019*\"market\" + 0.017*\"news\" + 0.016*\"rural\" + 0.011*\"share\" + 0.008*\"monday\" + 0.007*\"novemb\" + 0.007*\"australian\" + 0.007*\"dollar\" + 0.007*\"nation\" + 0.007*\"wall\"\n",
      "Topic: 9 Word: 0.017*\"charg\" + 0.016*\"polic\" + 0.015*\"trump\" + 0.014*\"murder\" + 0.012*\"court\" + 0.011*\"woman\" + 0.010*\"jail\" + 0.009*\"alleg\" + 0.009*\"death\" + 0.009*\"arrest\"\n"
     ]
    }
   ],
   "source": [
    "lda_model_tfidf = gensim.models.LdaMulticore(corpus_tfidf, num_topics=10, id2word=dictionary, passes=2, workers=4)\n",
    "for idx, topic in lda_model_tfidf.print_topics(-1):\n",
    "    print('Topic: {} Word: {}'.format(idx, topic))"
   ]
  },
  {
   "cell_type": "code",
   "execution_count": 29,
   "metadata": {},
   "outputs": [
    {
     "data": {
      "text/plain": [
       "['expand', 'shop', 'option', 'impact', 'chamber']"
      ]
     },
     "execution_count": 29,
     "metadata": {},
     "output_type": "execute_result"
    }
   ],
   "source": [
    "processed_docs[4200]"
   ]
  },
  {
   "cell_type": "code",
   "execution_count": 30,
   "metadata": {},
   "outputs": [
    {
     "name": "stdout",
     "output_type": "stream",
     "text": [
      "\n",
      "Score: 0.5167036056518555\t \n",
      "Topic: 0.024*\"chang\" + 0.019*\"miss\" + 0.017*\"tasmania\" + 0.014*\"farmer\" + 0.014*\"concern\" + 0.013*\"fall\" + 0.013*\"busi\" + 0.013*\"show\" + 0.012*\"price\" + 0.012*\"search\"\n",
      "\n",
      "Score: 0.1833157241344452\t \n",
      "Topic: 0.038*\"year\" + 0.030*\"queensland\" + 0.022*\"canberra\" + 0.014*\"investig\" + 0.014*\"children\" + 0.014*\"hous\" + 0.011*\"releas\" + 0.011*\"game\" + 0.010*\"storm\" + 0.010*\"life\"\n",
      "\n",
      "Score: 0.18328003585338593\t \n",
      "Topic: 0.027*\"elect\" + 0.022*\"sydney\" + 0.017*\"say\" + 0.014*\"labor\" + 0.014*\"record\" + 0.013*\"time\" + 0.012*\"call\" + 0.012*\"train\" + 0.011*\"polit\" + 0.010*\"budget\"\n",
      "\n",
      "Score: 0.01667519472539425\t \n",
      "Topic: 0.035*\"trump\" + 0.021*\"australia\" + 0.020*\"world\" + 0.016*\"final\" + 0.016*\"china\" + 0.014*\"rise\" + 0.013*\"island\" + 0.012*\"leagu\" + 0.012*\"take\" + 0.011*\"meet\"\n",
      "\n",
      "Score: 0.016670912504196167\t \n",
      "Topic: 0.022*\"warn\" + 0.020*\"market\" + 0.018*\"hospit\" + 0.016*\"health\" + 0.014*\"share\" + 0.014*\"break\" + 0.014*\"minist\" + 0.013*\"school\" + 0.013*\"student\" + 0.013*\"worker\"\n",
      "\n",
      "Score: 0.016670912504196167\t \n",
      "Topic: 0.026*\"adelaid\" + 0.022*\"test\" + 0.017*\"open\" + 0.017*\"tasmanian\" + 0.017*\"win\" + 0.014*\"melbourn\" + 0.013*\"australian\" + 0.012*\"vote\" + 0.011*\"darwin\" + 0.011*\"parti\"\n",
      "\n",
      "Score: 0.016670912504196167\t \n",
      "Topic: 0.030*\"govern\" + 0.022*\"south\" + 0.021*\"north\" + 0.017*\"countri\" + 0.015*\"rural\" + 0.015*\"australia\" + 0.014*\"hour\" + 0.014*\"west\" + 0.013*\"indigen\" + 0.011*\"communiti\"\n",
      "\n",
      "Score: 0.016670912504196167\t \n",
      "Topic: 0.021*\"die\" + 0.019*\"live\" + 0.017*\"donald\" + 0.016*\"coast\" + 0.014*\"gold\" + 0.014*\"lose\" + 0.013*\"abus\" + 0.013*\"return\" + 0.012*\"park\" + 0.012*\"royal\"\n",
      "\n",
      "Score: 0.016670912504196167\t \n",
      "Topic: 0.037*\"polic\" + 0.028*\"charg\" + 0.026*\"court\" + 0.020*\"murder\" + 0.017*\"face\" + 0.017*\"death\" + 0.015*\"woman\" + 0.015*\"alleg\" + 0.014*\"jail\" + 0.014*\"interview\"\n",
      "\n",
      "Score: 0.016670912504196167\t \n",
      "Topic: 0.026*\"kill\" + 0.023*\"home\" + 0.020*\"attack\" + 0.019*\"crash\" + 0.017*\"turnbul\" + 0.014*\"protest\" + 0.014*\"road\" + 0.014*\"polic\" + 0.013*\"driver\" + 0.012*\"farm\"\n"
     ]
    }
   ],
   "source": [
    "for index, score in sorted(lda_model[bow_corpus[4200]], key=lambda tup: -1*tup[1]):\n",
    "    print(\"\\nScore: {}\\t \\nTopic: {}\".format(score, lda_model.print_topic(index, 10)))"
   ]
  },
  {
   "cell_type": "code",
   "execution_count": 31,
   "metadata": {},
   "outputs": [
    {
     "name": "stdout",
     "output_type": "stream",
     "text": [
      "\n",
      "Score: 0.8199539184570312\t \n",
      "Topic: 0.017*\"countri\" + 0.016*\"hour\" + 0.008*\"podcast\" + 0.008*\"farm\" + 0.007*\"farmer\" + 0.007*\"price\" + 0.006*\"water\" + 0.005*\"council\" + 0.005*\"rural\" + 0.005*\"industri\"\n",
      "\n",
      "Score: 0.020010050386190414\t \n",
      "Topic: 0.011*\"coast\" + 0.010*\"south\" + 0.009*\"sport\" + 0.009*\"north\" + 0.007*\"east\" + 0.007*\"marriag\" + 0.007*\"west\" + 0.007*\"wednesday\" + 0.007*\"march\" + 0.006*\"festiv\"\n",
      "\n",
      "Score: 0.02000580169260502\t \n",
      "Topic: 0.013*\"queensland\" + 0.012*\"turnbul\" + 0.012*\"weather\" + 0.010*\"violenc\" + 0.010*\"victoria\" + 0.008*\"septemb\" + 0.007*\"perth\" + 0.007*\"domest\" + 0.007*\"inquest\" + 0.007*\"malcolm\"\n",
      "\n",
      "Score: 0.020005472004413605\t \n",
      "Topic: 0.010*\"grandstand\" + 0.008*\"christma\" + 0.008*\"octob\" + 0.008*\"mental\" + 0.008*\"asylum\" + 0.007*\"seeker\" + 0.006*\"health\" + 0.006*\"histori\" + 0.006*\"explain\" + 0.005*\"youth\"\n",
      "\n",
      "Score: 0.020004715770483017\t \n",
      "Topic: 0.017*\"charg\" + 0.016*\"polic\" + 0.015*\"trump\" + 0.014*\"murder\" + 0.012*\"court\" + 0.011*\"woman\" + 0.010*\"jail\" + 0.009*\"alleg\" + 0.009*\"death\" + 0.009*\"arrest\"\n",
      "\n",
      "Score: 0.020004408434033394\t \n",
      "Topic: 0.017*\"govern\" + 0.008*\"say\" + 0.007*\"minist\" + 0.007*\"michael\" + 0.006*\"state\" + 0.006*\"mark\" + 0.006*\"june\" + 0.005*\"stori\" + 0.005*\"andrew\" + 0.005*\"educ\"\n",
      "\n",
      "Score: 0.020004237070679665\t \n",
      "Topic: 0.010*\"donald\" + 0.009*\"royal\" + 0.008*\"commiss\" + 0.008*\"david\" + 0.008*\"crash\" + 0.007*\"hobart\" + 0.007*\"thursday\" + 0.006*\"energi\" + 0.006*\"truck\" + 0.006*\"scott\"\n",
      "\n",
      "Score: 0.020003851503133774\t \n",
      "Topic: 0.010*\"elect\" + 0.009*\"abbott\" + 0.008*\"juli\" + 0.007*\"peter\" + 0.007*\"care\" + 0.006*\"toni\" + 0.006*\"liber\" + 0.006*\"parti\" + 0.005*\"say\" + 0.005*\"search\"\n",
      "\n",
      "Score: 0.0200037844479084\t \n",
      "Topic: 0.019*\"market\" + 0.017*\"news\" + 0.016*\"rural\" + 0.011*\"share\" + 0.008*\"monday\" + 0.007*\"novemb\" + 0.007*\"australian\" + 0.007*\"dollar\" + 0.007*\"nation\" + 0.007*\"wall\"\n",
      "\n",
      "Score: 0.02000373601913452\t \n",
      "Topic: 0.015*\"interview\" + 0.009*\"final\" + 0.009*\"australia\" + 0.008*\"leagu\" + 0.008*\"world\" + 0.006*\"test\" + 0.006*\"rugbi\" + 0.006*\"friday\" + 0.006*\"beat\" + 0.005*\"cricket\"\n"
     ]
    }
   ],
   "source": [
    "for index, score in sorted(lda_model_tfidf[bow_corpus[4310]], key=lambda tup: -1*tup[1]):\n",
    "    print(\"\\nScore: {}\\t \\nTopic: {}\".format(score, lda_model_tfidf.print_topic(index, 10)))"
   ]
  },
  {
   "cell_type": "code",
   "execution_count": 32,
   "metadata": {},
   "outputs": [
    {
     "name": "stdout",
     "output_type": "stream",
     "text": [
      "Score: 0.3619116544723511\t Topic: 0.035*\"trump\" + 0.021*\"australia\" + 0.020*\"world\" + 0.016*\"final\" + 0.016*\"china\"\n",
      "Score: 0.361844539642334\t Topic: 0.026*\"kill\" + 0.023*\"home\" + 0.020*\"attack\" + 0.019*\"crash\" + 0.017*\"turnbul\"\n",
      "Score: 0.1267280876636505\t Topic: 0.038*\"year\" + 0.030*\"queensland\" + 0.022*\"canberra\" + 0.014*\"investig\" + 0.014*\"children\"\n",
      "Score: 0.07945827394723892\t Topic: 0.024*\"chang\" + 0.019*\"miss\" + 0.017*\"tasmania\" + 0.014*\"farmer\" + 0.014*\"concern\"\n",
      "Score: 0.01167741697281599\t Topic: 0.022*\"warn\" + 0.020*\"market\" + 0.018*\"hospit\" + 0.016*\"health\" + 0.014*\"share\"\n",
      "Score: 0.011676453053951263\t Topic: 0.030*\"govern\" + 0.022*\"south\" + 0.021*\"north\" + 0.017*\"countri\" + 0.015*\"rural\"\n",
      "Score: 0.01167590357363224\t Topic: 0.026*\"adelaid\" + 0.022*\"test\" + 0.017*\"open\" + 0.017*\"tasmanian\" + 0.017*\"win\"\n",
      "Score: 0.01167590357363224\t Topic: 0.021*\"die\" + 0.019*\"live\" + 0.017*\"donald\" + 0.016*\"coast\" + 0.014*\"gold\"\n",
      "Score: 0.01167590357363224\t Topic: 0.027*\"elect\" + 0.022*\"sydney\" + 0.017*\"say\" + 0.014*\"labor\" + 0.014*\"record\"\n",
      "Score: 0.01167590357363224\t Topic: 0.037*\"polic\" + 0.028*\"charg\" + 0.026*\"court\" + 0.020*\"murder\" + 0.017*\"face\"\n"
     ]
    }
   ],
   "source": [
    "unseen_document = 'Trump strikes optimistic tone on China after weekend of contradictory signals '\n",
    "bow_vector = dictionary.doc2bow(preprocess(unseen_document))\n",
    "for index, score in sorted(lda_model[bow_vector], key=lambda tup: -1*tup[1]):\n",
    "    print(\"Score: {}\\t Topic: {}\".format(score, lda_model.print_topic(index, 5)))"
   ]
  },
  {
   "cell_type": "code",
   "execution_count": null,
   "metadata": {},
   "outputs": [],
   "source": []
  }
 ],
 "metadata": {
  "kernelspec": {
   "display_name": "Python 3",
   "language": "python",
   "name": "python3"
  },
  "language_info": {
   "codemirror_mode": {
    "name": "ipython",
    "version": 3
   },
   "file_extension": ".py",
   "mimetype": "text/x-python",
   "name": "python",
   "nbconvert_exporter": "python",
   "pygments_lexer": "ipython3",
   "version": "3.7.3"
  }
 },
 "nbformat": 4,
 "nbformat_minor": 2
}
