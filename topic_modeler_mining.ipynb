{
 "cells": [
  {
   "cell_type": "code",
   "execution_count": 1,
   "metadata": {},
   "outputs": [
    {
     "data": {
      "text/plain": [
       "'C:\\\\Users\\\\kevin'"
      ]
     },
     "execution_count": 1,
     "metadata": {},
     "output_type": "execute_result"
    }
   ],
   "source": [
    "pwd"
   ]
  },
  {
   "cell_type": "code",
   "execution_count": 2,
   "metadata": {
    "scrolled": true
   },
   "outputs": [
    {
     "name": "stderr",
     "output_type": "stream",
     "text": [
      "[nltk_data] Downloading package stopwords to\n",
      "[nltk_data]     C:\\Users\\kevin\\AppData\\Roaming\\nltk_data...\n",
      "[nltk_data]   Package stopwords is already up-to-date!\n"
     ]
    },
    {
     "data": {
      "text/plain": [
       "True"
      ]
     },
     "execution_count": 2,
     "metadata": {},
     "output_type": "execute_result"
    }
   ],
   "source": [
    "import nltk\n",
    "from nltk import FreqDist\n",
    "nltk.download('stopwords') # run this one time"
   ]
  },
  {
   "cell_type": "code",
   "execution_count": 3,
   "metadata": {},
   "outputs": [],
   "source": [
    "import pandas as pd\n",
    "pd.set_option(\"display.max_colwidth\", 200)\n",
    "import numpy as np\n",
    "import re\n",
    "import spacy\n",
    "\n",
    "import gensim\n",
    "from gensim import corpora\n",
    "\n",
    "# libraries for visualization\n",
    "import pyLDAvis\n",
    "import pyLDAvis.gensim\n",
    "import matplotlib.pyplot as plt\n",
    "import seaborn as sns\n",
    "%matplotlib inline"
   ]
  },
  {
   "cell_type": "code",
   "execution_count": 4,
   "metadata": {},
   "outputs": [
    {
     "data": {
      "text/html": [
       "<div>\n",
       "<style scoped>\n",
       "    .dataframe tbody tr th:only-of-type {\n",
       "        vertical-align: middle;\n",
       "    }\n",
       "\n",
       "    .dataframe tbody tr th {\n",
       "        vertical-align: top;\n",
       "    }\n",
       "\n",
       "    .dataframe thead th {\n",
       "        text-align: right;\n",
       "    }\n",
       "</style>\n",
       "<table border=\"1\" class=\"dataframe\">\n",
       "  <thead>\n",
       "    <tr style=\"text-align: right;\">\n",
       "      <th></th>\n",
       "      <th>asin</th>\n",
       "      <th>helpful</th>\n",
       "      <th>overall</th>\n",
       "      <th>reviewText</th>\n",
       "      <th>reviewTime</th>\n",
       "      <th>reviewerID</th>\n",
       "      <th>reviewerName</th>\n",
       "      <th>summary</th>\n",
       "      <th>unixReviewTime</th>\n",
       "    </tr>\n",
       "  </thead>\n",
       "  <tbody>\n",
       "    <tr>\n",
       "      <th>0</th>\n",
       "      <td>B00002243X</td>\n",
       "      <td>[4, 4]</td>\n",
       "      <td>5</td>\n",
       "      <td>I needed a set of jumper cables for my new car and these had good reviews and were at a good price.  They have been used a few times already and do what they are supposed to - no complaints there....</td>\n",
       "      <td>08 17, 2011</td>\n",
       "      <td>A3F73SC1LY51OO</td>\n",
       "      <td>Alan Montgomery</td>\n",
       "      <td>Work Well - Should Have Bought Longer Ones</td>\n",
       "      <td>1313539200</td>\n",
       "    </tr>\n",
       "    <tr>\n",
       "      <th>1</th>\n",
       "      <td>B00002243X</td>\n",
       "      <td>[1, 1]</td>\n",
       "      <td>4</td>\n",
       "      <td>These long cables work fine for my truck, but the quality seems a little on the shabby side. For the money I was not expecting 200 dollar snap-on jumper cables but these seem more like what you wo...</td>\n",
       "      <td>09 4, 2011</td>\n",
       "      <td>A20S66SKYXULG2</td>\n",
       "      <td>alphonse</td>\n",
       "      <td>Okay long cables</td>\n",
       "      <td>1315094400</td>\n",
       "    </tr>\n",
       "    <tr>\n",
       "      <th>2</th>\n",
       "      <td>B00002243X</td>\n",
       "      <td>[0, 0]</td>\n",
       "      <td>5</td>\n",
       "      <td>Can't comment much on these since they have not yet been used (I will come back and update my review is I find any issues after first use) ... but they are built solid, nice tough big hard clamps ...</td>\n",
       "      <td>07 25, 2013</td>\n",
       "      <td>A2I8LFSN2IS5EO</td>\n",
       "      <td>Chris</td>\n",
       "      <td>Looks and feels heavy Duty</td>\n",
       "      <td>1374710400</td>\n",
       "    </tr>\n",
       "    <tr>\n",
       "      <th>3</th>\n",
       "      <td>B00002243X</td>\n",
       "      <td>[19, 19]</td>\n",
       "      <td>5</td>\n",
       "      <td>I absolutley love Amazon!!!  For the price of a set of cheap Booster/Jumper Cables in a brick and morter store, you can buy extra long and heavy duty jumpers!  First off, don't be the person that ...</td>\n",
       "      <td>12 21, 2010</td>\n",
       "      <td>A3GT2EWQSO45ZG</td>\n",
       "      <td>DeusEx</td>\n",
       "      <td>Excellent choice for Jumper Cables!!!</td>\n",
       "      <td>1292889600</td>\n",
       "    </tr>\n",
       "    <tr>\n",
       "      <th>4</th>\n",
       "      <td>B00002243X</td>\n",
       "      <td>[0, 0]</td>\n",
       "      <td>5</td>\n",
       "      <td>I purchased the 12' feet long cable set and they arrived in a retail cardboard box with handle, which could be used as a storage and carrying case for these cables, although I will not need to sto...</td>\n",
       "      <td>07 4, 2012</td>\n",
       "      <td>A3ESWJPAVRPWB4</td>\n",
       "      <td>E. Hernandez</td>\n",
       "      <td>Excellent, High Quality Starter Cables</td>\n",
       "      <td>1341360000</td>\n",
       "    </tr>\n",
       "  </tbody>\n",
       "</table>\n",
       "</div>"
      ],
      "text/plain": [
       "         asin   helpful  overall  \\\n",
       "0  B00002243X    [4, 4]        5   \n",
       "1  B00002243X    [1, 1]        4   \n",
       "2  B00002243X    [0, 0]        5   \n",
       "3  B00002243X  [19, 19]        5   \n",
       "4  B00002243X    [0, 0]        5   \n",
       "\n",
       "                                                                                                                                                                                                reviewText  \\\n",
       "0  I needed a set of jumper cables for my new car and these had good reviews and were at a good price.  They have been used a few times already and do what they are supposed to - no complaints there....   \n",
       "1  These long cables work fine for my truck, but the quality seems a little on the shabby side. For the money I was not expecting 200 dollar snap-on jumper cables but these seem more like what you wo...   \n",
       "2  Can't comment much on these since they have not yet been used (I will come back and update my review is I find any issues after first use) ... but they are built solid, nice tough big hard clamps ...   \n",
       "3  I absolutley love Amazon!!!  For the price of a set of cheap Booster/Jumper Cables in a brick and morter store, you can buy extra long and heavy duty jumpers!  First off, don't be the person that ...   \n",
       "4  I purchased the 12' feet long cable set and they arrived in a retail cardboard box with handle, which could be used as a storage and carrying case for these cables, although I will not need to sto...   \n",
       "\n",
       "    reviewTime      reviewerID     reviewerName  \\\n",
       "0  08 17, 2011  A3F73SC1LY51OO  Alan Montgomery   \n",
       "1   09 4, 2011  A20S66SKYXULG2         alphonse   \n",
       "2  07 25, 2013  A2I8LFSN2IS5EO            Chris   \n",
       "3  12 21, 2010  A3GT2EWQSO45ZG           DeusEx   \n",
       "4   07 4, 2012  A3ESWJPAVRPWB4     E. Hernandez   \n",
       "\n",
       "                                      summary  unixReviewTime  \n",
       "0  Work Well - Should Have Bought Longer Ones      1313539200  \n",
       "1                            Okay long cables      1315094400  \n",
       "2                  Looks and feels heavy Duty      1374710400  \n",
       "3       Excellent choice for Jumper Cables!!!      1292889600  \n",
       "4      Excellent, High Quality Starter Cables      1341360000  "
      ]
     },
     "execution_count": 4,
     "metadata": {},
     "output_type": "execute_result"
    }
   ],
   "source": [
    "df = pd.read_json('Automotive_5.json', lines=True)\n",
    "df.head()"
   ]
  },
  {
   "cell_type": "code",
   "execution_count": 5,
   "metadata": {},
   "outputs": [],
   "source": [
    "# function to plot most frequent terms\n",
    "\n",
    "def freq_words(x, terms = 30):\n",
    "  all_words = ' '.join([text for text in x])\n",
    "  all_words = all_words.split()\n",
    "\n",
    "  fdist = FreqDist(all_words)\n",
    "  words_df = pd.DataFrame({'word':list(fdist.keys()), 'count':list(fdist.values())})\n",
    "\n",
    "  # selecting top 20 most frequent words\n",
    "  d = words_df.nlargest(columns=\"count\", n = terms) \n",
    "  plt.figure(figsize=(20,5))\n",
    "  ax = sns.barplot(data=d, x= \"word\", y = \"count\")\n",
    "  ax.set(ylabel = 'Count')\n",
    "  plt.show()"
   ]
  },
  {
   "cell_type": "code",
   "execution_count": 6,
   "metadata": {},
   "outputs": [
    {
     "data": {
      "image/png": "[encoded data removed]",
      "text/plain": [
       "<Figure size 1440x360 with 1 Axes>"
      ]
     },
     "metadata": {
      "needs_background": "light"
     },
     "output_type": "display_data"
    }
   ],
   "source": [
    "freq_words(df['reviewText'])"
   ]
  },
  {
   "cell_type": "code",
   "execution_count": 7,
   "metadata": {},
   "outputs": [],
   "source": [
    "# remove unwanted characters, numbers and symbols\n",
    "df['reviewText'] = df['reviewText'].str.replace(\"[^a-zA-Z#]\", \" \")"
   ]
  },
  {
   "cell_type": "code",
   "execution_count": 8,
   "metadata": {},
   "outputs": [],
   "source": [
    "from nltk.corpus import stopwords\n",
    "stop_words = stopwords.words('english')"
   ]
  },
  {
   "cell_type": "code",
   "execution_count": 9,
   "metadata": {},
   "outputs": [],
   "source": [
    "# function to remove stopwords\n",
    "def remove_stopwords(rev):\n",
    "    rev_new = \" \".join([i for i in rev if i not in stop_words])\n",
    "    return rev_new\n",
    "\n",
    "# remove short words (length < 3)\n",
    "df['reviewText'] = df['reviewText'].apply(lambda x: ' '.join([w for w in x.split() if len(w)>2]))\n",
    "\n",
    "# remove stopwords from the text\n",
    "reviews = [remove_stopwords(r.split()) for r in df['reviewText']]\n",
    "\n",
    "# make entire text lowercase\n",
    "reviews = [r.lower() for r in reviews]"
   ]
  },
  {
   "cell_type": "code",
   "execution_count": 10,
   "metadata": {},
   "outputs": [
    {
     "data": {
      "image/png": "[encoded data removed]",
      "text/plain": [
       "<Figure size 1440x360 with 1 Axes>"
      ]
     },
     "metadata": {
      "needs_background": "light"
     },
     "output_type": "display_data"
    }
   ],
   "source": [
    "freq_words(reviews, 35)"
   ]
  },
  {
   "cell_type": "code",
   "execution_count": 11,
   "metadata": {},
   "outputs": [
    {
     "name": "stdout",
     "output_type": "stream",
     "text": [
      "Requirement already satisfied: spacy in c:\\users\\kevin\\appdata\\local\\continuum\\anaconda3\\lib\\site-packages (2.1.8)\n",
      "Requirement already satisfied: srsly<1.1.0,>=0.0.6 in c:\\users\\kevin\\appdata\\local\\continuum\\anaconda3\\lib\\site-packages (from spacy) (0.1.0)\n",
      "Requirement already satisfied: numpy>=1.15.0 in c:\\users\\kevin\\appdata\\local\\continuum\\anaconda3\\lib\\site-packages (from spacy) (1.17.1)\n",
      "Requirement already satisfied: requests<3.0.0,>=2.13.0 in c:\\users\\kevin\\appdata\\local\\continuum\\anaconda3\\lib\\site-packages (from spacy) (2.22.0)\n",
      "Requirement already satisfied: blis<0.3.0,>=0.2.2 in c:\\users\\kevin\\appdata\\local\\continuum\\anaconda3\\lib\\site-packages (from spacy) (0.2.4)\n",
      "Requirement already satisfied: thinc<7.1.0,>=7.0.8 in c:\\users\\kevin\\appdata\\local\\continuum\\anaconda3\\lib\\site-packages (from spacy) (7.0.8)\n",
      "Requirement already satisfied: cymem<2.1.0,>=2.0.2 in c:\\users\\kevin\\appdata\\local\\continuum\\anaconda3\\lib\\site-packages (from spacy) (2.0.2)\n",
      "Requirement already satisfied: preshed<2.1.0,>=2.0.1 in c:\\users\\kevin\\appdata\\local\\continuum\\anaconda3\\lib\\site-packages (from spacy) (2.0.1)\n",
      "Requirement already satisfied: wasabi<1.1.0,>=0.2.0 in c:\\users\\kevin\\appdata\\local\\continuum\\anaconda3\\lib\\site-packages (from spacy) (0.2.2)\n",
      "Requirement already satisfied: murmurhash<1.1.0,>=0.28.0 in c:\\users\\kevin\\appdata\\local\\continuum\\anaconda3\\lib\\site-packages (from spacy) (1.0.2)\n",
      "Requirement already satisfied: plac<1.0.0,>=0.9.6 in c:\\users\\kevin\\appdata\\local\\continuum\\anaconda3\\lib\\site-packages (from spacy) (0.9.6)\n",
      "Requirement already satisfied: idna<2.9,>=2.5 in c:\\users\\kevin\\appdata\\local\\continuum\\anaconda3\\lib\\site-packages (from requests<3.0.0,>=2.13.0->spacy) (2.8)\n",
      "Requirement already satisfied: chardet<3.1.0,>=3.0.2 in c:\\users\\kevin\\appdata\\local\\continuum\\anaconda3\\lib\\site-packages (from requests<3.0.0,>=2.13.0->spacy) (3.0.4)\n",
      "Requirement already satisfied: certifi>=2017.4.17 in c:\\users\\kevin\\appdata\\local\\continuum\\anaconda3\\lib\\site-packages (from requests<3.0.0,>=2.13.0->spacy) (2019.6.16)\n",
      "Requirement already satisfied: urllib3!=1.25.0,!=1.25.1,<1.26,>=1.21.1 in c:\\users\\kevin\\appdata\\local\\continuum\\anaconda3\\lib\\site-packages (from requests<3.0.0,>=2.13.0->spacy) (1.24.2)\n",
      "Requirement already satisfied: tqdm<5.0.0,>=4.10.0 in c:\\users\\kevin\\appdata\\local\\continuum\\anaconda3\\lib\\site-packages (from thinc<7.1.0,>=7.0.8->spacy) (4.32.1)\n",
      "Note: you may need to restart the kernel to use updated packages.\n"
     ]
    }
   ],
   "source": [
    "pip install spacy"
   ]
  },
  {
   "cell_type": "code",
   "execution_count": 12,
   "metadata": {},
   "outputs": [],
   "source": [
    "nlp = spacy.load('en', disable=['parser', 'ner'])\n",
    "\n",
    "def lemmatization(texts, tags=['NOUN', 'ADJ']): # filter noun and adjective\n",
    "       output = []\n",
    "       for sent in texts:\n",
    "             doc = nlp(\" \".join(sent)) \n",
    "             output.append([token.lemma_ for token in doc if token.pos_ in tags])\n",
    "       return output"
   ]
  },
  {
   "cell_type": "code",
   "execution_count": 13,
   "metadata": {},
   "outputs": [
    {
     "name": "stdout",
     "output_type": "stream",
     "text": [
      "['these', 'long', 'cables', 'work', 'fine', 'truck', 'quality', 'seems', 'little', 'shabby', 'side', 'for', 'money', 'expecting', 'dollar', 'snap', 'jumper', 'cables', 'seem', 'like', 'would', 'see', 'chinese', 'knock', 'shop', 'like', 'harbor', 'freight', 'bucks']\n"
     ]
    }
   ],
   "source": [
    "tokenized_reviews = pd.Series(reviews).apply(lambda x: x.split())\n",
    "print(tokenized_reviews[1])"
   ]
  },
  {
   "cell_type": "code",
   "execution_count": 14,
   "metadata": {},
   "outputs": [
    {
     "name": "stdout",
     "output_type": "stream",
     "text": [
      "['long', 'cable', 'fine', 'truck', 'quality', 'little', 'shabby', 'side', 'money', 'dollar', 'snap', 'jumper', 'cable', 'chinese', 'shop', 'harbor', 'freight', 'buck']\n"
     ]
    }
   ],
   "source": [
    "reviews_2 = lemmatization(tokenized_reviews)\n",
    "print(reviews_2[1]) # print lemmatized review"
   ]
  },
  {
   "cell_type": "code",
   "execution_count": 15,
   "metadata": {},
   "outputs": [
    {
     "data": {
      "image/png": "[encoded data removed]",
      "text/plain": [
       "<Figure size 1440x360 with 1 Axes>"
      ]
     },
     "metadata": {
      "needs_background": "light"
     },
     "output_type": "display_data"
    }
   ],
   "source": [
    "reviews_3 = []\n",
    "for i in range(len(reviews_2)):\n",
    "    reviews_3.append(' '.join(reviews_2[i]))\n",
    "\n",
    "df['reviews'] = reviews_3\n",
    "\n",
    "freq_words(df['reviews'], 35)"
   ]
  },
  {
   "cell_type": "code",
   "execution_count": 16,
   "metadata": {},
   "outputs": [],
   "source": [
    "dictionary = corpora.Dictionary(reviews_2)"
   ]
  },
  {
   "cell_type": "code",
   "execution_count": 17,
   "metadata": {},
   "outputs": [],
   "source": [
    "doc_term_matrix = [dictionary.doc2bow(rev) for rev in reviews_2]"
   ]
  },
  {
   "cell_type": "code",
   "execution_count": 18,
   "metadata": {},
   "outputs": [],
   "source": [
    "# Creating the object for LDA model using gensim library\n",
    "LDA = gensim.models.ldamodel.LdaModel\n",
    "\n",
    "# Build LDA model\n",
    "lda_model = LDA(corpus=doc_term_matrix, id2word=dictionary, num_topics=7, random_state=100,\n",
    "                chunksize=1000, passes=50)"
   ]
  },
  {
   "cell_type": "code",
   "execution_count": 19,
   "metadata": {},
   "outputs": [
    {
     "data": {
      "text/plain": [
       "[(0,\n",
       "  '0.035*\"oil\" + 0.026*\"filter\" + 0.017*\"change\" + 0.016*\"car\" + 0.016*\"engine\" + 0.015*\"good\" + 0.012*\"inverter\" + 0.012*\"price\" + 0.011*\"product\" + 0.011*\"bosch\"'),\n",
       " (1,\n",
       "  '0.026*\"wiper\" + 0.026*\"blade\" + 0.019*\"good\" + 0.011*\"plastic\" + 0.011*\"windshield\" + 0.010*\"quality\" + 0.010*\"work\" + 0.009*\"side\" + 0.009*\"fit\" + 0.009*\"small\"'),\n",
       " (2,\n",
       "  '0.035*\"battery\" + 0.027*\"car\" + 0.017*\"power\" + 0.014*\"device\" + 0.013*\"light\" + 0.012*\"unit\" + 0.010*\"charger\" + 0.010*\"use\" + 0.010*\"time\" + 0.010*\"plug\"'),\n",
       " (3,\n",
       "  '0.053*\"light\" + 0.025*\"bulb\" + 0.018*\"bright\" + 0.016*\"great\" + 0.014*\"easy\" + 0.012*\"install\" + 0.011*\"fit\" + 0.009*\"white\" + 0.009*\"jeep\" + 0.009*\"good\"'),\n",
       " (4,\n",
       "  '0.028*\"tire\" + 0.019*\"hose\" + 0.013*\"pressure\" + 0.012*\"use\" + 0.011*\"water\" + 0.011*\"gauge\" + 0.010*\"easy\" + 0.010*\"air\" + 0.008*\"jack\" + 0.008*\"time\"'),\n",
       " (5,\n",
       "  '0.041*\"car\" + 0.024*\"towel\" + 0.021*\"product\" + 0.021*\"clean\" + 0.016*\"water\" + 0.016*\"good\" + 0.014*\"leather\" + 0.013*\"great\" + 0.012*\"use\" + 0.011*\"wash\"'),\n",
       " (6,\n",
       "  '0.040*\"product\" + 0.035*\"wax\" + 0.028*\"car\" + 0.021*\"paint\" + 0.015*\"pad\" + 0.015*\"kit\" + 0.014*\"good\" + 0.012*\"time\" + 0.011*\"black\" + 0.011*\"great\"')]"
      ]
     },
     "execution_count": 19,
     "metadata": {},
     "output_type": "execute_result"
    }
   ],
   "source": [
    "lda_model.print_topics()"
   ]
  },
  {
   "cell_type": "code",
   "execution_count": 20,
   "metadata": {},
   "outputs": [
    {
     "name": "stderr",
     "output_type": "stream",
     "text": [
      "C:\\Users\\kevin\\AppData\\Local\\Continuum\\anaconda3\\lib\\site-packages\\pyLDAvis\\_prepare.py:257: FutureWarning: Sorting because non-concatenation axis is not aligned. A future version\n",
      "of pandas will change to not sort by default.\n",
      "\n",
      "To accept the future behavior, pass 'sort=False'.\n",
      "\n",
      "To retain the current behavior and silence the warning, pass 'sort=True'.\n",
      "\n",
      "  return pd.concat([default_term_info] + list(topic_dfs))\n"
     ]
    },
    {
     "data": {
      "text/html": [
       "\n",
       "<link rel=\"stylesheet\" type=\"text/css\" href=\"https://cdn.rawgit.com/bmabey/pyLDAvis/files/ldavis.v1.0.0.css\">\n",
       "\n",
       "\n",
       "<div id=\"ldavis_el896024197434048249796826776\"></div>\n",
       "<script type=\"text/javascript\">\n",
       "\n",
       "var ldavis_el896024197434048249796826776_data = {\"mdsDat\": {\"x\": [-0.10403076020483973, 0.11065116420238184, 0.014436581529862793, 0.1939555071419242, 0.11593996663674681, -0.21195091851487474, -0.11900154079120126], \"y\": [-0.07386254616267203, -0.05970085870166387, 0.18383851950080082, -0.0690720202764643, -0.012833072894537258, -0.16048277274730396, 0.19211275128184074], \"topics\": [1, 2, 3, 4, 5, 6, 7], \"cluster\": [1, 1, 1, 1, 1, 1, 1], \"Freq\": [18.99925994873047, 16.07158088684082, 15.866820335388184, 14.347394943237305, 12.579306602478027, 11.313566207885742, 10.822072982788086]}, \"tinfo\": {\"Category\": [\"Default\", \"Default\", \"Default\", \"Default\", \"Default\", \"Default\", \"Default\", \"Default\", \"Default\", \"Default\", \"Default\", \"Default\", \"Default\", \"Default\", \"Default\", \"Default\", \"Default\", \"Default\", \"Default\", \"Default\", \"Default\", \"Default\", \"Default\", \"Default\", \"Default\", \"Default\", \"Default\", \"Default\", \"Default\", \"Default\", \"Topic1\", \"Topic1\", \"Topic1\", \"Topic1\", \"Topic1\", \"Topic1\", \"Topic1\", \"Topic1\", \"Topic1\", \"Topic1\", \"Topic1\", \"Topic1\", \"Topic1\", \"Topic1\", \"Topic1\", \"Topic1\", \"Topic1\", \"Topic1\", \"Topic1\", \"Topic1\", \"Topic1\", \"Topic1\", \"Topic1\", \"Topic1\", \"Topic1\", \"Topic1\", \"Topic1\", \"Topic1\", \"Topic1\", \"Topic1\", \"Topic1\", \"Topic1\", \"Topic1\", \"Topic1\", \"Topic1\", \"Topic1\", \"Topic1\", \"Topic1\", \"Topic1\", \"Topic1\", \"Topic1\", \"Topic1\", \"Topic1\", \"Topic1\", \"Topic1\", \"Topic1\", \"Topic1\", \"Topic1\", \"Topic1\", \"Topic1\", \"Topic1\", \"Topic1\", \"Topic1\", \"Topic1\", \"Topic2\", \"Topic2\", \"Topic2\", \"Topic2\", \"Topic2\", \"Topic2\", \"Topic2\", \"Topic2\", \"Topic2\", \"Topic2\", \"Topic2\", \"Topic2\", \"Topic2\", \"Topic2\", \"Topic2\", \"Topic2\", \"Topic2\", \"Topic2\", \"Topic2\", \"Topic2\", \"Topic2\", \"Topic2\", \"Topic2\", \"Topic2\", \"Topic2\", \"Topic2\", \"Topic2\", \"Topic2\", \"Topic2\", \"Topic2\", \"Topic2\", \"Topic2\", \"Topic2\", \"Topic2\", \"Topic2\", \"Topic2\", \"Topic2\", \"Topic2\", \"Topic2\", \"Topic2\", \"Topic2\", \"Topic2\", \"Topic2\", \"Topic2\", \"Topic2\", \"Topic2\", \"Topic2\", \"Topic2\", \"Topic2\", \"Topic2\", \"Topic2\", \"Topic2\", \"Topic2\", \"Topic2\", \"Topic2\", \"Topic2\", \"Topic2\", \"Topic2\", \"Topic2\", \"Topic2\", \"Topic2\", \"Topic2\", \"Topic2\", \"Topic2\", \"Topic2\", \"Topic2\", \"Topic2\", \"Topic2\", \"Topic2\", \"Topic2\", \"Topic3\", \"Topic3\", \"Topic3\", \"Topic3\", \"Topic3\", \"Topic3\", \"Topic3\", \"Topic3\", \"Topic3\", \"Topic3\", \"Topic3\", \"Topic3\", \"Topic3\", \"Topic3\", \"Topic3\", \"Topic3\", \"Topic3\", \"Topic3\", \"Topic3\", \"Topic3\", \"Topic3\", \"Topic3\", \"Topic3\", \"Topic3\", \"Topic3\", \"Topic3\", \"Topic3\", \"Topic3\", \"Topic3\", \"Topic3\", \"Topic3\", \"Topic3\", \"Topic3\", \"Topic3\", \"Topic3\", \"Topic3\", \"Topic3\", \"Topic3\", \"Topic3\", \"Topic3\", \"Topic3\", \"Topic3\", \"Topic3\", \"Topic3\", \"Topic3\", \"Topic3\", \"Topic3\", \"Topic3\", \"Topic3\", \"Topic3\", \"Topic3\", \"Topic3\", \"Topic4\", \"Topic4\", \"Topic4\", \"Topic4\", \"Topic4\", \"Topic4\", \"Topic4\", \"Topic4\", \"Topic4\", \"Topic4\", \"Topic4\", \"Topic4\", \"Topic4\", \"Topic4\", \"Topic4\", \"Topic4\", \"Topic4\", \"Topic4\", \"Topic4\", \"Topic4\", \"Topic4\", \"Topic4\", \"Topic4\", \"Topic4\", \"Topic4\", \"Topic4\", \"Topic4\", \"Topic4\", \"Topic4\", \"Topic4\", \"Topic4\", \"Topic4\", \"Topic4\", \"Topic4\", \"Topic4\", \"Topic4\", \"Topic4\", \"Topic4\", \"Topic4\", \"Topic4\", \"Topic4\", \"Topic4\", \"Topic4\", \"Topic4\", \"Topic4\", \"Topic4\", \"Topic4\", \"Topic4\", \"Topic4\", \"Topic4\", \"Topic4\", \"Topic4\", \"Topic4\", \"Topic4\", \"Topic4\", \"Topic4\", \"Topic4\", \"Topic4\", \"Topic4\", \"Topic5\", \"Topic5\", \"Topic5\", \"Topic5\", \"Topic5\", \"Topic5\", \"Topic5\", \"Topic5\", \"Topic5\", \"Topic5\", \"Topic5\", \"Topic5\", \"Topic5\", \"Topic5\", \"Topic5\", \"Topic5\", \"Topic5\", \"Topic5\", \"Topic5\", \"Topic5\", \"Topic5\", \"Topic5\", \"Topic5\", \"Topic5\", \"Topic5\", \"Topic5\", \"Topic5\", \"Topic5\", \"Topic5\", \"Topic5\", \"Topic5\", \"Topic5\", \"Topic5\", \"Topic5\", \"Topic5\", \"Topic5\", \"Topic5\", \"Topic5\", \"Topic5\", \"Topic5\", \"Topic5\", \"Topic5\", \"Topic5\", \"Topic5\", \"Topic5\", \"Topic5\", \"Topic5\", \"Topic5\", \"Topic5\", \"Topic5\", \"Topic5\", \"Topic5\", \"Topic5\", \"Topic5\", \"Topic5\", \"Topic5\", \"Topic5\", \"Topic6\", \"Topic6\", \"Topic6\", \"Topic6\", \"Topic6\", \"Topic6\", \"Topic6\", \"Topic6\", \"Topic6\", \"Topic6\", \"Topic6\", \"Topic6\", \"Topic6\", \"Topic6\", \"Topic6\", \"Topic6\", \"Topic6\", \"Topic6\", \"Topic6\", \"Topic6\", \"Topic6\", \"Topic6\", \"Topic6\", \"Topic6\", \"Topic6\", \"Topic6\", \"Topic6\", \"Topic6\", \"Topic6\", \"Topic6\", \"Topic6\", \"Topic6\", \"Topic6\", \"Topic6\", \"Topic6\", \"Topic6\", \"Topic6\", \"Topic6\", \"Topic6\", \"Topic6\", \"Topic6\", \"Topic6\", \"Topic6\", \"Topic6\", \"Topic6\", \"Topic6\", \"Topic6\", \"Topic6\", \"Topic6\", \"Topic6\", \"Topic6\", \"Topic6\", \"Topic6\", \"Topic6\", \"Topic6\", \"Topic6\", \"Topic6\", \"Topic6\", \"Topic6\", \"Topic6\", \"Topic7\", \"Topic7\", \"Topic7\", \"Topic7\", \"Topic7\", \"Topic7\", \"Topic7\", \"Topic7\", \"Topic7\", \"Topic7\", \"Topic7\", \"Topic7\", \"Topic7\", \"Topic7\", \"Topic7\", \"Topic7\", \"Topic7\", \"Topic7\", \"Topic7\", \"Topic7\", \"Topic7\", \"Topic7\", \"Topic7\", \"Topic7\", \"Topic7\", \"Topic7\", \"Topic7\", \"Topic7\", \"Topic7\", \"Topic7\", \"Topic7\", \"Topic7\", \"Topic7\", \"Topic7\", \"Topic7\", \"Topic7\", \"Topic7\", \"Topic7\", \"Topic7\", \"Topic7\", \"Topic7\", \"Topic7\", \"Topic7\", \"Topic7\", \"Topic7\", \"Topic7\", \"Topic7\", \"Topic7\", \"Topic7\", \"Topic7\", \"Topic7\", \"Topic7\", \"Topic7\"], \"Freq\": [4913.0, 3046.0, 9346.0, 2150.0, 2102.0, 2215.0, 2328.0, 2320.0, 2526.0, 6467.0, 1735.0, 1550.0, 2337.0, 1486.0, 2594.0, 1305.0, 1566.0, 1227.0, 1477.0, 986.0, 1175.0, 1205.0, 952.0, 1180.0, 993.0, 1456.0, 1137.0, 1189.0, 990.0, 989.0, 2525.466064453125, 1476.3192138671875, 1179.815673828125, 988.8646850585938, 989.5718994140625, 766.248779296875, 617.9522094726562, 530.2970581054688, 506.7677001953125, 501.95501708984375, 503.9502258300781, 482.73760986328125, 415.4700012207031, 339.0740661621094, 280.9020690917969, 275.8501892089844, 275.0717468261719, 255.5022735595703, 246.5641326904297, 242.88400268554688, 216.95362854003906, 207.68968200683594, 198.56884765625, 190.90208435058594, 185.58485412597656, 183.21490478515625, 176.534423828125, 174.89013671875, 170.3701629638672, 152.88246154785156, 453.8045349121094, 2153.4140625, 511.81939697265625, 592.6866455078125, 1713.2694091796875, 4270.5556640625, 662.7218627929688, 675.8553466796875, 2194.331787109375, 539.3126831054688, 842.525634765625, 1684.1744384765625, 1276.0550537109375, 1303.6951904296875, 665.7474365234375, 1005.3087768554688, 503.0493469238281, 617.4374389648438, 617.4428100585938, 575.9058837890625, 582.20654296875, 574.962890625, 543.9775390625, 519.7198486328125, 2327.279541015625, 2319.512939453125, 600.6460571289062, 347.2747497558594, 320.71832275390625, 242.19189453125, 190.1126708984375, 183.1124267578125, 168.64794921875, 159.38394165039062, 131.5272216796875, 123.30636596679688, 120.54696655273438, 111.98285675048828, 106.3479232788086, 99.78053283691406, 99.30654907226562, 106.69950103759766, 94.4312744140625, 92.72020721435547, 90.76212310791016, 85.76006317138672, 85.08820343017578, 84.13543701171875, 83.00617218017578, 83.76229858398438, 82.91034698486328, 81.48324584960938, 78.79525756835938, 75.65306091308594, 945.7076416015625, 252.79037475585938, 554.1707763671875, 297.8695068359375, 163.95761108398438, 564.3978271484375, 290.9004821777344, 401.99127197265625, 567.7632446289062, 558.7063598632812, 572.5620727539062, 650.53515625, 195.6903076171875, 964.49267578125, 204.6121826171875, 369.4183654785156, 302.6623840332031, 426.69439697265625, 796.6767578125, 626.1503295898438, 900.0020141601562, 772.3447265625, 512.2145385742188, 303.43505859375, 1630.8779296875, 650.3115844726562, 575.8684692382812, 754.9983520507812, 459.86676025390625, 505.5502014160156, 894.6157836914062, 526.9157104492188, 625.3850708007812, 674.1068725585938, 705.177978515625, 556.99365234375, 557.8922119140625, 620.3638305664062, 537.675537109375, 587.80859375, 3045.729248046875, 1174.8026123046875, 875.9616088867188, 762.0397338867188, 714.8970947265625, 688.9315185546875, 662.0802001953125, 596.8929443359375, 466.5762939453125, 401.3427429199219, 368.92828369140625, 340.2239990234375, 332.5447082519531, 303.92999267578125, 272.9865417480469, 274.0880126953125, 259.01214599609375, 255.62351989746094, 249.57180786132812, 240.50103759765625, 230.62513732910156, 230.4198455810547, 225.63392639160156, 220.0989227294922, 211.45909118652344, 205.144775390625, 164.96597290039062, 154.0727996826172, 153.3412628173828, 143.7711181640625, 1520.13330078125, 1021.0310668945312, 827.2760620117188, 442.7272033691406, 393.8823547363281, 2344.203125, 400.9502868652344, 1133.467041015625, 694.4564819335938, 859.0309448242188, 854.659912109375, 488.4829406738281, 341.30609130859375, 352.68121337890625, 505.20263671875, 534.0128173828125, 429.0534973144531, 400.3439025878906, 403.67626953125, 485.94342041015625, 442.1582336425781, 434.53350830078125, 2214.4169921875, 1485.31396484375, 992.524169921875, 841.3804931640625, 644.33203125, 466.26715087890625, 304.9352722167969, 299.7809753417969, 292.1820983886719, 281.59442138671875, 279.1970520019531, 270.1266174316406, 266.8118896484375, 261.7946472167969, 260.84674072265625, 240.23899841308594, 203.06915283203125, 195.70814514160156, 178.51571655273438, 182.2483673095703, 170.32870483398438, 166.29281616210938, 164.03097534179688, 161.2008056640625, 161.1085968017578, 157.38111877441406, 151.10565185546875, 149.00872802734375, 144.15965270996094, 134.40835571289062, 487.7928771972656, 615.0283813476562, 328.4682312011719, 398.3660583496094, 371.8196716308594, 781.9672241210938, 317.3976135253906, 581.677490234375, 226.6642303466797, 249.27284240722656, 297.2994384765625, 279.62933349609375, 880.5811767578125, 342.1728820800781, 944.9754638671875, 816.816162109375, 395.67529296875, 629.6820678710938, 457.2021484375, 466.993408203125, 371.44036865234375, 380.8440856933594, 327.2332458496094, 360.8062438964844, 387.2895812988281, 353.3973693847656, 337.16290283203125, 334.4580383300781, 321.81512451171875, 1734.3712158203125, 1226.381591796875, 637.1875610351562, 314.274169921875, 287.3555908203125, 278.0721130371094, 206.26365661621094, 197.6831817626953, 194.0917510986328, 191.84571838378906, 185.8800811767578, 160.07435607910156, 161.2342529296875, 153.2621307373047, 149.3363494873047, 146.68759155273438, 142.83218383789062, 141.3395538330078, 140.66444396972656, 137.57789611816406, 131.52310180664062, 124.93870544433594, 121.70671081542969, 117.31927490234375, 112.47091674804688, 113.83033752441406, 107.0718002319336, 106.28058624267578, 104.08002471923828, 100.37904357910156, 431.1087341308594, 409.12237548828125, 3672.039306640625, 854.3409423828125, 366.0130920410156, 326.18896484375, 645.025390625, 386.60693359375, 255.42103576660156, 301.0239562988281, 443.1338195800781, 528.6345825195312, 762.5125122070312, 398.1942138671875, 972.4268188476562, 1136.1495361328125, 304.14227294921875, 286.2051696777344, 539.6891479492188, 508.2086181640625, 349.83184814453125, 514.7030029296875, 586.8635864257812, 387.9759216308594, 328.90899658203125, 331.618408203125, 291.2114562988281, 2149.346923828125, 1304.7562255859375, 951.4730834960938, 639.235107421875, 634.8724975585938, 523.0321655273438, 469.3460388183594, 429.21441650390625, 334.36932373046875, 251.89366149902344, 214.44334411621094, 216.52474975585938, 212.2431182861328, 196.5182342529297, 181.09474182128906, 173.08326721191406, 143.5950469970703, 137.438720703125, 137.6023712158203, 125.7618637084961, 125.44586944580078, 120.87860107421875, 105.31782531738281, 96.59293365478516, 88.33810424804688, 86.14227294921875, 81.06651306152344, 80.45263671875, 80.54842376708984, 78.21920776367188, 582.7039184570312, 228.5728302001953, 131.09521484375, 636.5629272460938, 201.87525939941406, 160.27310180664062, 944.8529052734375, 157.66160583496094, 550.5924072265625, 285.41754150390625, 2460.3291015625, 667.0995483398438, 294.9241638183594, 380.0735778808594, 551.351806640625, 180.92498779296875, 328.65472412109375, 1761.794921875, 447.75811767578125, 365.6955871582031, 854.385986328125, 735.5651245117188, 624.7355346679688, 661.8272094726562, 607.6356201171875, 427.193359375, 477.95611572265625, 323.24114990234375, 348.21881103515625, 324.84429931640625, 2102.267578125, 1550.2623291015625, 985.7695922851562, 731.3886108398438, 628.6827392578125, 590.6873779296875, 523.5870361328125, 506.90484619140625, 500.98114013671875, 314.9365234375, 310.66107177734375, 308.0868835449219, 288.3234558105469, 241.41770935058594, 206.33668518066406, 185.9134979248047, 160.43844604492188, 157.82652282714844, 146.13385009765625, 140.0531463623047, 132.0117950439453, 129.15106201171875, 116.47879028320312, 108.21142578125, 112.5277099609375, 107.42438507080078, 101.52779388427734, 100.25846099853516, 96.3712158203125, 81.62681579589844, 524.2548828125, 951.8228149414062, 371.85089111328125, 397.18878173828125, 279.9953308105469, 241.81260681152344, 312.352783203125, 233.1405487060547, 521.4389038085938, 238.70819091796875, 707.5071411132812, 512.321044921875, 891.4276123046875, 969.4010620117188, 521.0931396484375, 495.0520324707031, 372.6195983886719, 675.5386352539062, 444.48345947265625, 462.2612609863281, 380.4617004394531, 429.2735595703125, 323.942626953125], \"Term\": [\"light\", \"battery\", \"car\", \"wax\", \"oil\", \"tire\", \"wiper\", \"blade\", \"towel\", \"product\", \"bulb\", \"filter\", \"clean\", \"hose\", \"water\", \"paint\", \"power\", \"bright\", \"leather\", \"change\", \"device\", \"engine\", \"pad\", \"wash\", \"pressure\", \"kit\", \"install\", \"unit\", \"dry\", \"microfiber\", \"towel\", \"leather\", \"wash\", \"microfiber\", \"dry\", \"cloth\", \"dirt\", \"smell\", \"mat\", \"griot\", \"snow\", \"dust\", \"wipe\", \"washing\", \"conditioner\", \"soap\", \"bucket\", \"cleaner\", \"mitt\", \"scent\", \"vinyl\", \"chamois\", \"lint\", \"kitchen\", \"sponge\", \"stain\", \"fiber\", \"absorbent\", \"residue\", \"fabric\", \"cleaning\", \"clean\", \"brush\", \"soft\", \"water\", \"car\", \"spray\", \"wheel\", \"product\", \"bottle\", \"job\", \"good\", \"use\", \"great\", \"lot\", \"time\", \"stuff\", \"new\", \"nice\", \"well\", \"year\", \"work\", \"little\", \"thing\", \"wiper\", \"blade\", \"metal\", \"strap\", \"contact\", \"frame\", \"scraper\", \"nut\", \"visor\", \"gun\", \"medium\", \"insert\", \"anco\", \"force\", \"resistant\", \"sandpaper\", \"bristle\", \"score\", \"flimsy\", \"sticker\", \"visibility\", \"mechanism\", \"proof\", \"stainless\", \"logo\", \"burner\", \"play\", \"camera\", \"tap\", \"rod\", \"windshield\", \"grip\", \"bag\", \"duty\", \"wrap\", \"cover\", \"strip\", \"material\", \"rain\", \"tape\", \"rubber\", \"heavy\", \"steel\", \"plastic\", \"spring\", \"design\", \"handle\", \"piece\", \"side\", \"tool\", \"quality\", \"fit\", \"place\", \"tight\", \"good\", \"part\", \"size\", \"small\", \"box\", \"one\", \"work\", \"large\", \"price\", \"easy\", \"time\", \"well\", \"thing\", \"great\", \"little\", \"product\", \"battery\", \"device\", \"charger\", \"phone\", \"charge\", \"code\", \"cable\", \"app\", \"port\", \"cord\", \"solar\", \"information\", \"fuse\", \"cigarette\", \"cell\", \"storage\", \"tender\", \"output\", \"laptop\", \"outlet\", \"amp\", \"computer\", \"zubie\", \"watt\", \"extension\", \"voltage\", \"dead\", \"terminal\", \"software\", \"jump\", \"power\", \"unit\", \"plug\", \"adapter\", \"connector\", \"car\", \"trip\", \"light\", \"vehicle\", \"use\", \"time\", \"day\", \"panel\", \"wire\", \"thing\", \"work\", \"small\", \"problem\", \"long\", \"product\", \"great\", \"good\", \"tire\", \"hose\", \"pressure\", \"gauge\", \"jack\", \"usb\", \"pump\", \"compressor\", \"button\", \"scanner\", \"block\", \"volt\", \"iphone\", \"accurate\", \"sewer\", \"led\", \"display\", \"lift\", \"ramp\", \"icon\", \"compact\", \"obd\", \"meter\", \"camco\", \"smart\", \"situation\", \"blow\", \"gear\", \"digital\", \"pan\", \"valve\", \"tank\", \"level\", \"board\", \"glove\", \"air\", \"weight\", \"trailer\", \"cup\", \"screen\", \"leak\", \"arm\", \"water\", \"cap\", \"use\", \"easy\", \"wheel\", \"time\", \"work\", \"good\", \"way\", \"nice\", \"end\", \"little\", \"great\", \"small\", \"side\", \"thing\", \"enough\", \"bulb\", \"bright\", \"jeep\", \"hitch\", \"carpet\", \"beam\", \"wrangler\", \"link\", \"psi\", \"drill\", \"lens\", \"vent\", \"bluetooth\", \"remote\", \"lighting\", \"vision\", \"receiver\", \"incandescent\", \"helmet\", \"dish\", \"hid\", \"fog\", \"signal\", \"brightness\", \"cargo\", \"cutting\", \"stove\", \"halogen\", \"license\", \"latch\", \"headlight\", \"night\", \"light\", \"install\", \"stock\", \"factory\", \"white\", \"blue\", \"mount\", \"lock\", \"door\", \"color\", \"fit\", \"front\", \"easy\", \"great\", \"installation\", \"road\", \"little\", \"nice\", \"truck\", \"work\", \"good\", \"price\", \"kit\", \"side\", \"way\", \"wax\", \"paint\", \"pad\", \"clay\", \"polish\", \"coat\", \"step\", \"chemical\", \"detailer\", \"sealant\", \"grit\", \"family\", \"compound\", \"polisher\", \"paste\", \"ultimate\", \"report\", \"buffer\", \"scan\", \"lense\", \"apply\", \"gap\", \"dealership\", \"haze\", \"turtle\", \"sharp\", \"bra\", \"chip\", \"backing\", \"defender\", \"meguiar\", \"applicator\", \"gloss\", \"finish\", \"professional\", \"swirl\", \"kit\", \"buff\", \"result\", \"scratch\", \"product\", \"black\", \"protection\", \"shine\", \"surface\", \"film\", \"bar\", \"car\", \"clear\", \"application\", \"good\", \"time\", \"easy\", \"great\", \"use\", \"new\", \"work\", \"stuff\", \"year\", \"vehicle\", \"oil\", \"filter\", \"change\", \"inverter\", \"bosch\", \"mile\", \"automatic\", \"fuel\", \"fluid\", \"wrench\", \"dealer\", \"mpg\", \"mileage\", \"vacuum\", \"transmission\", \"coolant\", \"cabin\", \"purple\", \"funnel\", \"acceleration\", \"quart\", \"royal\", \"monitor\", \"nissan\", \"sander\", \"tint\", \"modern\", \"harley\", \"stabilizer\", \"steering\", \"gas\", \"engine\", \"datum\", \"honda\", \"toyota\", \"synthetic\", \"oem\", \"sensor\", \"amazon\", \"local\", \"price\", \"part\", \"good\", \"car\", \"year\", \"vehicle\", \"air\", \"product\", \"new\", \"great\", \"well\", \"time\", \"quality\"], \"Total\": [4913.0, 3046.0, 9346.0, 2150.0, 2102.0, 2215.0, 2328.0, 2320.0, 2526.0, 6467.0, 1735.0, 1550.0, 2337.0, 1486.0, 2594.0, 1305.0, 1566.0, 1227.0, 1477.0, 986.0, 1175.0, 1205.0, 952.0, 1180.0, 993.0, 1456.0, 1137.0, 1189.0, 990.0, 989.0, 2526.228515625, 1477.08203125, 1180.5784912109375, 989.627197265625, 990.3357543945312, 767.0115966796875, 618.7161254882812, 531.0604248046875, 507.5343322753906, 502.7189636230469, 504.7177429199219, 483.5018615722656, 416.2336120605469, 339.83685302734375, 281.66473388671875, 276.6127014160156, 275.8343505859375, 256.2653503417969, 247.32640075683594, 243.64688110351562, 217.71734619140625, 208.45254516601562, 199.33116149902344, 191.66827392578125, 186.34742736816406, 183.9774627685547, 177.29769897460938, 175.6525115966797, 171.13357543945312, 153.6458282470703, 463.027587890625, 2337.41796875, 583.5894165039062, 718.333251953125, 2594.486328125, 9346.3271484375, 933.2882080078125, 1072.166259765625, 6467.298828125, 854.725341796875, 1846.76708984375, 6549.2568359375, 4533.30810546875, 5013.74462890625, 1775.460693359375, 4638.6484375, 1112.1904296875, 2216.989990234375, 2319.357177734375, 2119.34619140625, 2402.1064453125, 3604.60302734375, 2495.68115234375, 2291.5751953125, 2328.01953125, 2320.25341796875, 601.3880615234375, 348.015625, 321.4622497558594, 242.93301391601562, 190.853515625, 183.8536834716797, 169.39035034179688, 160.1259307861328, 132.27259826660156, 124.04983520507812, 121.28680419921875, 112.72621154785156, 107.0951156616211, 100.52609252929688, 100.04935455322266, 107.50847625732422, 95.17220306396484, 93.4638900756836, 91.50663757324219, 86.50130462646484, 85.83164978027344, 84.87698364257812, 83.74774169921875, 84.51700592041016, 83.6584701538086, 82.22799682617188, 79.5406265258789, 76.39447021484375, 1026.8768310546875, 272.6292724609375, 652.4290161132812, 347.3620910644531, 178.64517211914062, 729.98095703125, 346.9938659667969, 508.5854187011719, 759.4867553710938, 760.565673828125, 784.0389404296875, 930.2109375, 228.56167602539062, 1635.8074951171875, 241.3818817138672, 507.6438293457031, 395.82147216796875, 621.8546142578125, 1584.0986328125, 1191.1962890625, 2009.07568359375, 1747.6353759765625, 966.2249755859375, 443.7872619628906, 6549.2568359375, 1521.613037109375, 1252.3099365234375, 2136.39599609375, 896.3499755859375, 1094.602294921875, 3604.60302734375, 1253.2939453125, 2355.720703125, 3662.181640625, 4638.6484375, 2119.34619140625, 2291.5751953125, 5013.74462890625, 2495.68115234375, 6467.298828125, 3046.488525390625, 1175.5635986328125, 876.7211303710938, 762.800537109375, 715.6567993164062, 689.6917724609375, 662.841064453125, 597.6547241210938, 467.3373107910156, 402.10345458984375, 369.68865966796875, 340.9864196777344, 333.3052062988281, 304.6898193359375, 273.7469177246094, 274.85247802734375, 259.7715759277344, 256.3861999511719, 250.33213806152344, 241.26162719726562, 231.3851776123047, 231.18109130859375, 226.40011596679688, 220.8595733642578, 212.21987915039062, 205.90444946289062, 165.72714233398438, 154.83265686035156, 154.1013641357422, 144.53086853027344, 1566.8662109375, 1189.625244140625, 1079.13232421875, 605.8209838867188, 528.7001953125, 9346.3271484375, 617.2877197265625, 4913.119140625, 2282.329345703125, 4533.30810546875, 4638.6484375, 1379.584228515625, 571.32861328125, 675.8952026367188, 2291.5751953125, 3604.60302734375, 2136.39599609375, 1453.0543212890625, 1684.182861328125, 6467.298828125, 5013.74462890625, 6549.2568359375, 2215.15771484375, 1486.05517578125, 993.265380859375, 842.1206665039062, 645.0722045898438, 467.0152282714844, 305.67620849609375, 300.5209655761719, 292.92529296875, 282.3401184082031, 279.9389953613281, 270.8701477050781, 267.56396484375, 262.535400390625, 261.58660888671875, 240.9887237548828, 203.81137084960938, 196.44969177246094, 179.2561492919922, 183.00592041015625, 171.07142639160156, 167.03794860839844, 164.77317810058594, 161.94102478027344, 161.85708618164062, 158.12562561035156, 151.84889221191406, 149.75146484375, 144.9000701904297, 135.15072631835938, 517.7083740234375, 746.3466796875, 367.05328369140625, 464.9945068359375, 435.9732360839844, 1155.17138671875, 378.0354309082031, 821.1896362304688, 251.65162658691406, 288.09149169921875, 373.3291320800781, 346.98834228515625, 2594.486328125, 538.760498046875, 4533.30810546875, 3662.181640625, 1072.166259765625, 4638.6484375, 3604.60302734375, 6549.2568359375, 1952.3426513671875, 2319.357177734375, 1010.846923828125, 2495.68115234375, 5013.74462890625, 2136.39599609375, 1584.0986328125, 2291.5751953125, 1162.4039306640625, 1735.1226806640625, 1227.1339111328125, 637.93994140625, 315.02593994140625, 288.1145935058594, 278.8250732421875, 207.01560974121094, 198.45346069335938, 194.84878540039062, 192.5987548828125, 186.63331604003906, 160.8267059326172, 162.0050048828125, 154.017333984375, 150.090087890625, 147.44493103027344, 143.58404541015625, 142.09140014648438, 141.41688537597656, 138.3408966064453, 132.27444458007812, 125.69059753417969, 122.46246337890625, 118.07109069824219, 113.2241439819336, 114.59456634521484, 107.82839965820312, 107.03202819824219, 104.83189392089844, 101.1322250366211, 439.94793701171875, 432.9683837890625, 4913.119140625, 1137.0589599609375, 445.9507751464844, 396.1802978515625, 902.7384643554688, 518.6246337890625, 316.1520080566406, 396.6747131347656, 739.1124877929688, 1003.4614868164062, 1747.6353759765625, 803.3812866210938, 3662.181640625, 5013.74462890625, 572.9290161132812, 568.8892211914062, 2495.68115234375, 2319.357177734375, 1041.9320068359375, 3604.60302734375, 6549.2568359375, 2355.720703125, 1456.752685546875, 1584.0986328125, 1952.3426513671875, 2150.087890625, 1305.497802734375, 952.2146606445312, 639.9757690429688, 635.613525390625, 523.7736206054688, 470.08929443359375, 429.95770263671875, 335.11029052734375, 252.6356658935547, 215.1861572265625, 217.27671813964844, 212.98414611816406, 197.25909423828125, 181.8357696533203, 173.8248748779297, 144.34629821777344, 138.17947387695312, 138.3518829345703, 126.50484466552734, 126.18739318847656, 121.62293243408203, 106.06462860107422, 97.3348159790039, 89.07884216308594, 86.88797760009766, 81.80952453613281, 81.19468688964844, 81.2939224243164, 78.9613037109375, 631.18310546875, 246.69952392578125, 139.48403930664062, 811.2237548828125, 229.9069366455078, 177.8230743408203, 1456.752685546875, 174.5911102294922, 811.7490844726562, 365.0576477050781, 6467.298828125, 1168.3616943359375, 404.08251953125, 586.3972778320312, 1204.3330078125, 212.58633422851562, 549.2484130859375, 9346.3271484375, 1082.8905029296875, 732.641357421875, 6549.2568359375, 4638.6484375, 3662.181640625, 5013.74462890625, 4533.30810546875, 2216.989990234375, 3604.60302734375, 1112.1904296875, 2402.1064453125, 2282.329345703125, 2102.978759765625, 1550.972900390625, 986.4825439453125, 732.107177734375, 629.3985595703125, 591.3998413085938, 524.3043823242188, 507.616455078125, 501.69256591796875, 315.64910888671875, 311.373046875, 308.7991027832031, 289.0353698730469, 242.1352081298828, 207.04751586914062, 186.62469482421875, 161.15147399902344, 158.53814697265625, 146.84494018554688, 140.7689208984375, 132.72256469726562, 129.86158752441406, 117.19695281982422, 108.92332458496094, 113.27166748046875, 108.14251708984375, 102.2463607788086, 100.97056579589844, 97.08560180664062, 82.33946990966797, 599.693115234375, 1205.947998046875, 435.1695556640625, 501.3108825683594, 340.0154724121094, 321.46405029296875, 482.8310546875, 346.9080810546875, 1258.741943359375, 360.5120849609375, 2355.720703125, 1521.613037109375, 6549.2568359375, 9346.3271484375, 2402.1064453125, 2282.329345703125, 1155.17138671875, 6467.298828125, 2216.989990234375, 5013.74462890625, 2119.34619140625, 4638.6484375, 2009.07568359375], \"loglift\": [30.0, 29.0, 28.0, 27.0, 26.0, 25.0, 24.0, 23.0, 22.0, 21.0, 20.0, 19.0, 18.0, 17.0, 16.0, 15.0, 14.0, 13.0, 12.0, 11.0, 10.0, 9.0, 8.0, 7.0, 6.0, 5.0, 4.0, 3.0, 2.0, 1.0, 1.6605000495910645, 1.6603000164031982, 1.660099983215332, 1.659999966621399, 1.659999966621399, 1.6598000526428223, 1.659500002861023, 1.6592999696731567, 1.6592999696731567, 1.6591999530792236, 1.6591999530792236, 1.6591999530792236, 1.6589000225067139, 1.6584999561309814, 1.6581000089645386, 1.6579999923706055, 1.6579999923706055, 1.6577999591827393, 1.6576999425888062, 1.6576000452041626, 1.6572999954223633, 1.657099962234497, 1.6569000482559204, 1.6568000316619873, 1.6567000150680542, 1.656599998474121, 1.656499981880188, 1.6563999652862549, 1.6562999486923218, 1.6557999849319458, 1.6405999660491943, 1.5787999629974365, 1.5295000076293945, 1.468500018119812, 1.2458000183105469, 0.8774999976158142, 1.3184000253677368, 1.1993000507354736, 0.5799000263214111, 1.2002999782562256, 0.8759999871253967, 0.302700012922287, 0.39309999346733093, 0.31380000710487366, 0.6798999905586243, 0.1316000074148178, 0.8673999905586243, 0.3824000060558319, 0.33730000257492065, 0.3578999936580658, 0.2434999942779541, -0.17489999532699585, 0.13740000128746033, 0.17710000276565552, 1.8278000354766846, 1.8278000354766846, 1.8269000053405762, 1.8259999752044678, 1.8257999420166016, 1.8250999450683594, 1.8242000341415405, 1.8241000175476074, 1.823699951171875, 1.8235000371932983, 1.8224999904632568, 1.822100043296814, 1.8220000267028809, 1.8214999437332153, 1.8210999965667725, 1.8207000494003296, 1.8207000494003296, 1.8206000328063965, 1.8202999830245972, 1.820099949836731, 1.8199000358581543, 1.8194999694824219, 1.8193999528884888, 1.8193000555038452, 1.819200038909912, 1.819100022315979, 1.819100022315979, 1.819000005722046, 1.8186999559402466, 1.8184000253677368, 1.7458000183105469, 1.7525999546051025, 1.6648999452590942, 1.674399971961975, 1.742300033569336, 1.5708999633789062, 1.6518000364303589, 1.592900037765503, 1.5371999740600586, 1.519700050354004, 1.513800024986267, 1.4704999923706055, 1.6727999448776245, 1.2998000383377075, 1.6628999710083008, 1.5103000402450562, 1.5598000288009644, 1.4515000581741333, 1.1407999992370605, 1.184999942779541, 1.0250999927520752, 1.0115000009536743, 1.19350004196167, 1.4479000568389893, 0.43790000677108765, 0.9779999852180481, 1.051300048828125, 0.7879999876022339, 1.1606999635696411, 1.0556000471115112, 0.4345000088214874, 0.9616000056266785, 0.5019000172615051, 0.13570000231266022, -0.05559999868273735, 0.4918000102043152, 0.41530001163482666, -0.2615000009536743, 0.2930999994277954, -0.5699999928474426, 1.8407000303268433, 1.8402999639511108, 1.8401000499725342, 1.839900016784668, 1.839900016784668, 1.8398000001907349, 1.8398000001907349, 1.8396999835968018, 1.8393000364303589, 1.8389999866485596, 1.8388999700546265, 1.8387000560760498, 1.8387000560760498, 1.8384000062942505, 1.8381999731063843, 1.8381999731063843, 1.8380000591278076, 1.8380000591278076, 1.8379000425338745, 1.8378000259399414, 1.8375999927520752, 1.8375999927520752, 1.8375999927520752, 1.837499976158142, 1.8372999429702759, 1.8372000455856323, 1.836300015449524, 1.8359999656677246, 1.8359999656677246, 1.8357000350952148, 1.8107000589370728, 1.688099980354309, 1.5751999616622925, 1.5273000001907349, 1.5465999841690063, 0.4578999876976013, 1.4093999862670898, 0.3743000030517578, 0.6510999798774719, 0.17749999463558197, 0.14949999749660492, 0.8026999831199646, 1.3257999420166016, 1.190500020980835, 0.328900009393692, -0.06859999895095825, 0.23559999465942383, 0.551800012588501, 0.4124999940395355, -0.7475000023841858, -0.5873000025749207, -0.8719000220298767, 1.9413000345230103, 1.941100001335144, 1.9408999681472778, 1.9407000541687012, 1.940500020980835, 1.940000057220459, 1.9392000436782837, 1.9391000270843506, 1.9391000270843506, 1.9390000104904175, 1.9388999938964844, 1.9388999938964844, 1.9387999773025513, 1.9387999773025513, 1.9387999773025513, 1.9385000467300415, 1.937999963760376, 1.9378000497817993, 1.9375, 1.9375, 1.9372999668121338, 1.9371000528335571, 1.9371000528335571, 1.937000036239624, 1.937000036239624, 1.936900019645691, 1.9366999864578247, 1.9365999698638916, 1.9364999532699585, 1.9361000061035156, 1.882099986076355, 1.7481000423431396, 1.8305000066757202, 1.7869000434875488, 1.7824000120162964, 1.5513999462127686, 1.766800045967102, 1.5967999696731567, 1.8370000123977661, 1.7969000339508057, 1.7138999700546265, 1.7258000373840332, 0.8610000014305115, 1.4875999689102173, 0.3736000061035156, 0.44119998812675476, 0.9448000192642212, -0.055399999022483826, -0.12319999933242798, -0.6991999745368958, 0.28220000863075256, 0.13490000367164612, 0.8137000203132629, 0.007600000128149986, -0.6191999912261963, 0.14229999482631683, 0.3944000005722046, 0.017100000753998756, 0.6572999954223633, 2.072700023651123, 2.072499990463257, 2.071899890899658, 2.07069993019104, 2.070499897003174, 2.0703999996185303, 2.069499969482422, 2.069200038909912, 2.069200038909912, 2.069200038909912, 2.0690999031066895, 2.0683999061584473, 2.0683000087738037, 2.06820011138916, 2.0680999755859375, 2.068000078201294, 2.0678999423980713, 2.0678000450134277, 2.0678000450134277, 2.0676000118255615, 2.0673999786376953, 2.0671000480651855, 2.0669000148773193, 2.066699981689453, 2.0664000511169434, 2.0664000511169434, 2.0660998821258545, 2.0660998821258545, 2.0659000873565674, 2.0655999183654785, 2.052799940109253, 2.0164999961853027, 1.781999945640564, 1.7871999740600586, 1.875599980354309, 1.8787000179290771, 1.7369999885559082, 1.7792999744415283, 1.8597999811172485, 1.7971999645233154, 1.5614999532699585, 1.4321999549865723, 1.2437000274658203, 1.3711999654769897, 0.7470999956130981, 0.5885999798774719, 1.4399000406265259, 1.3861000537872314, 0.5418000221252441, 0.5550000071525574, 0.9817000031471252, 0.1266999989748001, -0.3391999900341034, 0.2694999873638153, 0.5849000215530396, 0.5092999935150146, 0.1703999936580658, 2.178800106048584, 2.1786000728607178, 2.1784000396728516, 2.177999973297119, 2.177999973297119, 2.177799940109253, 2.1775999069213867, 2.1774001121520996, 2.177000045776367, 2.1761999130249023, 2.1756999492645264, 2.1756999492645264, 2.1756999492645264, 2.1754000186920166, 2.175100088119507, 2.1749000549316406, 2.1738998889923096, 2.173799991607666, 2.1737000942230225, 2.17330002784729, 2.17330002784729, 2.1730000972747803, 2.172100067138672, 2.1714999675750732, 2.170799970626831, 2.1705000400543213, 2.1700000762939453, 2.1700000762939453, 2.1700000762939453, 2.1696999073028564, 2.099299907684326, 2.1029000282287598, 2.1171000003814697, 1.9366999864578247, 2.049099922180176, 2.0752999782562256, 1.7461999654769897, 2.077199935913086, 1.7910000085830688, 1.9330999851226807, 1.2127000093460083, 1.6187000274658203, 1.864300012588501, 1.7454999685287476, 1.3978999853134155, 2.017899990081787, 1.6655999422073364, 0.5105000138282776, 1.2960000038146973, 1.4843000173568726, 0.14239999651908875, 0.3375999927520752, 0.4106999933719635, 0.1542000025510788, 0.16949999332427979, 0.5325000286102295, 0.15870000422000885, 0.9434999823570251, 0.24789999425411224, 0.2295999974012375, 2.2232000827789307, 2.223099946975708, 2.222899913787842, 2.222599983215332, 2.222399950027466, 2.222399950027466, 2.2221999168395996, 2.2221999168395996, 2.2221999168395996, 2.221299886703491, 2.221299886703491, 2.221299886703491, 2.221100091934204, 2.220599889755249, 2.220099925994873, 2.2197999954223633, 2.219099998474121, 2.219099998474121, 2.2186999320983887, 2.2184998989105225, 2.2181999683380127, 2.218100070953369, 2.217400074005127, 2.2170000076293945, 2.2170000076293945, 2.216900110244751, 2.2165000438690186, 2.2165000438690186, 2.216200113296509, 2.214900016784668, 2.089099884033203, 1.986899971961975, 2.0662999153137207, 1.9908000230789185, 2.029400110244751, 1.9388999938964844, 1.7879999876022339, 1.826200008392334, 1.3423000574111938, 1.8113000392913818, 1.0206999778747559, 1.1349999904632568, 0.22930000722408295, -0.042500000447034836, 0.6953999996185303, 0.6952999830245972, 1.0921000242233276, -0.03539999946951866, 0.616599977016449, -0.16019999980926514, 0.5060999989509583, -0.15649999678134918, 0.3986999988555908], \"logprob\": [30.0, 29.0, 28.0, 27.0, 26.0, 25.0, 24.0, 23.0, 22.0, 21.0, 20.0, 19.0, 18.0, 17.0, 16.0, 15.0, 14.0, 13.0, 12.0, 11.0, 10.0, 9.0, 8.0, 7.0, 6.0, 5.0, 4.0, 3.0, 2.0, 1.0, -3.719899892807007, -4.256800174713135, -4.480999946594238, -4.65749979019165, -4.656799793243408, -4.912600040435791, -5.127699851989746, -5.280600070953369, -5.326000213623047, -5.335599899291992, -5.331600189208984, -5.374599933624268, -5.524700164794922, -5.72790002822876, -5.916100025177002, -5.934199810028076, -5.937099933624268, -6.010900020599365, -6.046500205993652, -6.061500072479248, -6.1743998527526855, -6.2179999351501465, -6.262899875640869, -6.302299976348877, -6.330599784851074, -6.343400001525879, -6.3805999755859375, -6.389900207519531, -6.416100025177002, -6.524400234222412, -5.436399936676025, -3.879300117492676, -5.316100120544434, -5.169400215148926, -4.107900142669678, -3.1946001052856445, -5.057700157165527, -5.038099765777588, -3.8605000972747803, -5.263800144195557, -4.817699909210205, -4.125100135803223, -4.402599811553955, -4.381100177764893, -5.053199768066406, -4.640999794006348, -5.333399772644043, -5.128499984741211, -5.128499984741211, -5.1981000900268555, -5.187300205230713, -5.19980001449585, -5.255199909210205, -5.30079984664917, -3.6342999935150146, -3.6375999450683594, -4.988699913024902, -5.536600112915039, -5.616199970245361, -5.896999835968018, -6.139100074768066, -6.176599979400635, -6.258900165557861, -6.315400123596191, -6.507500171661377, -6.5721001625061035, -6.594699859619141, -6.668399810791016, -6.71999979019165, -6.78380012512207, -6.78849983215332, -6.716700077056885, -6.838900089263916, -6.8572001457214355, -6.878499984741211, -6.935200214385986, -6.942999839782715, -6.9542999267578125, -6.967800140380859, -6.958799839019775, -6.968999862670898, -6.986299991607666, -7.019899845123291, -7.0605998039245605, -4.534800052642822, -5.8541998863220215, -5.069300174713135, -5.690100193023682, -6.287099838256836, -5.051000118255615, -5.713799953460693, -5.3902997970581055, -5.045000076293945, -5.061100006103516, -5.036600112915039, -4.908899784088135, -6.110199928283691, -4.515100002288818, -6.0655999183654785, -5.474800109863281, -5.674099922180176, -5.330699920654297, -4.706299781799316, -4.9471001625061035, -4.5843000411987305, -4.737299919128418, -5.1479997634887695, -5.671599864959717, -3.9899001121520996, -4.909299850463867, -5.030900001525879, -4.760000228881836, -5.255799770355225, -5.161099910736084, -4.5903000831604, -5.119699954986572, -4.948400020599365, -4.873300075531006, -4.8282999992370605, -5.064199924468994, -5.062600135803223, -4.956399917602539, -5.0995001792907715, -5.010300159454346, -3.352400064468384, -4.305099964141846, -4.598599910736084, -4.7378997802734375, -4.801799774169922, -4.838799953460693, -4.878499984741211, -4.9822001457214355, -5.228499889373779, -5.3790998458862305, -5.4633002281188965, -5.544300079345703, -5.5671000480651855, -5.657100200653076, -5.764500141143799, -5.760499954223633, -5.816999912261963, -5.8302001953125, -5.8541998863220215, -5.891200065612793, -5.93310022354126, -5.934000015258789, -5.954999923706055, -5.979800224304199, -6.019899845123291, -6.05019998550415, -6.268199920654297, -6.33650016784668, -6.34119987487793, -6.405700206756592, -4.047399997711182, -4.445300102233887, -4.655799865722656, -5.281000137329102, -5.397900104522705, -3.6142001152038574, -5.380099773406982, -4.34089994430542, -4.8308000564575195, -4.618100166320801, -4.623199939727783, -5.182600021362305, -5.541100025177002, -5.508299827575684, -5.14900016784668, -5.093500137329102, -5.312300205230713, -5.3815999031066895, -5.373300075531006, -5.18779993057251, -5.282199859619141, -5.299600124359131, -3.570499897003174, -3.969899892807007, -4.373000144958496, -4.5381999015808105, -4.804999828338623, -5.128499984741211, -5.553199768066406, -5.570199966430664, -5.595900058746338, -5.632800102233887, -5.641300201416016, -5.6743998527526855, -5.686699867248535, -5.705699920654297, -5.7093000411987305, -5.791600227355957, -5.959700107574463, -5.996600151062012, -6.088600158691406, -6.06790018081665, -6.135499954223633, -6.1595001220703125, -6.1732001304626465, -6.1905999183654785, -6.191199779510498, -6.214600086212158, -6.255300045013428, -6.269199848175049, -6.302299976348877, -6.372399806976318, -5.083399772644043, -4.851600170135498, -5.478799819946289, -5.285900115966797, -5.354800224304199, -4.611400127410889, -5.5131001472473145, -4.907299995422363, -5.849800109863281, -5.754700183868408, -5.578499794006348, -5.639800071716309, -4.492700099945068, -5.437900066375732, -4.422100067138672, -4.567800045013428, -5.292699813842773, -4.828000068664551, -5.148099899291992, -5.1269001960754395, -5.355899810791016, -5.330900192260742, -5.482600212097168, -5.384900093078613, -5.3140997886657715, -5.405700206756592, -5.452700138092041, -5.460700035095215, -5.499300003051758, -3.683300018310547, -4.029900074005127, -4.684700012207031, -5.391499996185303, -5.480999946594238, -5.513899803161621, -5.812600135803223, -5.855100154876709, -5.8734002113342285, -5.885000228881836, -5.916600227355957, -6.066100120544434, -6.058899879455566, -6.109600067138672, -6.135499954223633, -6.15339994430542, -6.180099964141846, -6.1905999183654785, -6.195400238037109, -6.21750020980835, -6.262599945068359, -6.313899993896484, -6.340099811553955, -6.376800060272217, -6.419000148773193, -6.4070000648498535, -6.468200206756592, -6.4756999015808105, -6.496600151062012, -6.532800197601318, -5.075399875640869, -5.127699851989746, -2.933199882507324, -4.39139986038208, -5.239099979400635, -5.354300022125244, -4.672399997711182, -5.184299945831299, -5.598800182342529, -5.434500217437744, -5.047900199890137, -4.871399879455566, -4.505099773406982, -5.154799938201904, -4.261899948120117, -4.106299877166748, -5.424200057983398, -5.485000133514404, -4.8506999015808105, -4.910799980163574, -5.284299850463867, -4.898099899291992, -4.766900062561035, -5.180799961090088, -5.3460001945495605, -5.337800025939941, -5.467700004577637, -3.362799882888794, -3.8619000911712646, -4.177700042724609, -4.575399875640869, -4.582300186157227, -4.776000022888184, -4.884300231933594, -4.973700046539307, -5.223400115966797, -5.506700038909912, -5.667600154876709, -5.6579999923706055, -5.677999973297119, -5.754899978637695, -5.836699962615967, -5.881899833679199, -6.068699836730957, -6.112500190734863, -6.111299991607666, -6.201300144195557, -6.203800201416016, -6.240900039672852, -6.378699779510498, -6.465199947357178, -6.554500102996826, -6.579699993133545, -6.640399932861328, -6.6479997634887695, -6.6468000411987305, -6.676199913024902, -4.668000221252441, -5.603799819946289, -6.159800052642822, -4.579599857330322, -5.728000164031982, -5.958799839019775, -4.184700012207031, -5.975200176239014, -4.724699974060059, -5.381700038909912, -3.22760009765625, -4.532700061798096, -5.348999977111816, -5.095300197601318, -4.723299980163574, -5.837600231170654, -5.240699768066406, -3.5615999698638916, -4.931399822235107, -5.133900165557861, -4.285299777984619, -4.434999942779541, -4.598400115966797, -4.5406999588012695, -4.626100063323975, -4.978400230407715, -4.866199970245361, -5.257299900054932, -5.1828999519348145, -5.252299785614014, -3.3405001163482666, -3.6451001167297363, -4.097799777984619, -4.396299839019775, -4.547599792480469, -4.610000133514404, -4.730599880218506, -4.762899875640869, -4.774700164794922, -5.238900184631348, -5.252600193023682, -5.260900020599365, -5.327199935913086, -5.504700183868408, -5.661799907684326, -5.765999794006348, -5.913400173187256, -5.929800033569336, -6.006700038909912, -6.049200057983398, -6.108399868011475, -6.130300045013428, -6.23360013961792, -6.307199954986572, -6.268099784851074, -6.314499855041504, -6.3709001541137695, -6.383500099182129, -6.423099994659424, -6.589099884033203, -4.729300022125244, -4.132900238037109, -5.072800159454346, -5.006899833679199, -5.356500148773193, -5.5030999183654785, -5.247099876403809, -5.539599895477295, -4.7347002029418945, -5.515999794006348, -4.429500102996826, -4.752299785614014, -4.198400020599365, -4.11460018157959, -4.735300064086914, -4.786600112915039, -5.070700168609619, -4.475800037384033, -4.894400119781494, -4.855100154876709, -5.049900054931641, -4.929200172424316, -5.210700035095215]}, \"token.table\": {\"Topic\": [1, 7, 4, 2, 3, 4, 7, 1, 2, 3, 4, 5, 7, 3, 2, 3, 1, 2, 3, 4, 5, 6, 7, 1, 6, 6, 1, 4, 7, 6, 2, 4, 5, 6, 3, 5, 1, 2, 4, 5, 6, 2, 4, 4, 1, 3, 5, 5, 1, 3, 4, 7, 1, 6, 7, 2, 3, 4, 5, 7, 6, 5, 5, 2, 1, 2, 1, 1, 6, 6, 5, 2, 4, 7, 3, 4, 2, 2, 4, 1, 3, 6, 7, 5, 5, 3, 1, 7, 3, 3, 6, 6, 3, 6, 1, 7, 1, 1, 7, 1, 2, 3, 4, 5, 6, 1, 6, 3, 1, 5, 6, 4, 6, 4, 3, 1, 2, 3, 4, 2, 7, 3, 2, 5, 1, 4, 5, 4, 7, 1, 2, 3, 4, 5, 6, 7, 3, 7, 6, 6, 1, 2, 3, 4, 6, 3, 4, 1, 5, 4, 1, 2, 5, 5, 1, 1, 2, 3, 4, 1, 2, 3, 4, 5, 6, 7, 1, 2, 3, 4, 5, 6, 7, 3, 7, 1, 2, 3, 4, 5, 6, 3, 1, 5, 7, 6, 1, 1, 6, 7, 1, 6, 2, 4, 5, 7, 2, 7, 5, 2, 2, 1, 2, 4, 5, 6, 7, 7, 3, 6, 4, 7, 4, 4, 1, 6, 1, 4, 1, 2, 3, 4, 5, 6, 7, 1, 2, 3, 4, 5, 6, 7, 1, 2, 4, 6, 2, 5, 2, 4, 7, 6, 1, 5, 1, 2, 3, 4, 5, 5, 5, 5, 7, 4, 4, 5, 3, 2, 2, 5, 2, 3, 5, 7, 4, 4, 5, 1, 2, 3, 4, 6, 7, 3, 4, 5, 6, 1, 3, 1, 2, 3, 4, 5, 4, 7, 1, 4, 5, 6, 3, 4, 5, 4, 3, 5, 6, 5, 5, 1, 1, 2, 3, 4, 5, 6, 7, 1, 2, 7, 2, 5, 2, 1, 2, 3, 4, 5, 6, 7, 1, 2, 3, 4, 5, 6, 7, 1, 1, 2, 2, 2, 1, 6, 2, 4, 1, 7, 7, 1, 7, 7, 2, 3, 5, 7, 1, 2, 3, 4, 5, 6, 7, 1, 2, 3, 4, 5, 6, 3, 5, 7, 2, 4, 5, 7, 7, 1, 2, 3, 4, 5, 7, 3, 3, 6, 6, 4, 1, 3, 5, 1, 2, 4, 5, 6, 7, 6, 3, 1, 2, 4, 1, 2, 4, 5, 1, 2, 4, 5, 6, 2, 3, 7, 6, 6, 3, 3, 7, 4, 1, 2, 3, 5, 7, 1, 2, 3, 4, 5, 6, 7, 1, 2, 3, 5, 6, 7, 3, 6, 2, 2, 3, 5, 6, 7, 5, 4, 7, 1, 2, 3, 4, 5, 7, 7, 1, 2, 4, 5, 5, 6, 1, 2, 1, 3, 6, 7, 1, 3, 4, 5, 2, 7, 1, 2, 4, 7, 2, 6, 4, 1, 2, 2, 1, 6, 1, 4, 6, 3, 7, 4, 6, 1, 6, 1, 2, 4, 5, 5, 4, 1, 2, 3, 4, 5, 1, 2, 3, 4, 5, 6, 4, 1, 1, 1, 1, 2, 6, 3, 3, 1, 1, 6, 2, 4, 7, 1, 2, 2, 4, 7, 6, 2, 5, 7, 3, 5, 2, 2, 3, 1, 2, 6, 7, 1, 2, 6, 1, 6, 1, 6, 7, 4, 7, 2, 2, 5, 3, 3, 1, 2, 3, 4, 5, 7, 2, 4, 1, 2, 3, 4, 5, 6, 7, 7, 4, 2, 3, 4, 1, 5, 7, 4, 5, 7, 3, 4, 7, 1, 2, 3, 4, 5, 7, 6, 6, 3, 4, 4, 1, 2, 3, 4, 5, 6, 7, 7, 4, 7, 1, 2, 3, 4, 5, 6, 7, 5, 1, 2, 5, 2, 4, 3, 1, 1, 1, 4, 3, 6, 1, 2, 3, 4, 5, 6, 7, 2, 4, 1, 2, 3, 4, 5, 6, 7, 1, 4, 1, 5, 6, 1, 2, 1, 2, 2, 3, 5, 1, 2, 3, 4, 5, 6, 7, 5, 2, 6, 7, 1, 2, 3, 4, 5, 6, 7, 3], \"Freq\": [0.9962852001190186, 0.9945377111434937, 0.99796062707901, 0.2674057185649872, 0.7312391400337219, 0.6769558191299438, 0.3228957951068878, 0.11519438028335571, 0.14141103625297546, 0.14379437267780304, 0.05640552565455437, 0.12869992852210999, 0.4139053225517273, 0.9983353614807129, 0.9976353049278259, 0.9989045262336731, 0.19108940660953522, 0.05596189573407173, 0.15833121538162231, 0.025933561846613884, 0.025933561846613884, 0.4995622932910919, 0.04367757961153984, 0.06890974193811417, 0.9282547235488892, 0.9905902147293091, 0.1930900663137436, 0.8069435358047485, 0.9994194507598877, 0.9963844418525696, 0.8491345047950745, 0.15020790696144104, 0.4005473554134369, 0.5990003943443298, 0.9998396635055542, 0.997040867805481, 0.16518856585025787, 0.005991295445710421, 0.17374756932258606, 0.08387813717126846, 0.5708848834037781, 0.9998908042907715, 0.9966456890106201, 0.9944096207618713, 0.20824310183525085, 0.04434806853532791, 0.7462044358253479, 0.9937964677810669, 0.08172139525413513, 0.06021576374769211, 0.8559240698814392, 0.9993667602539062, 0.6306119561195374, 0.17432500422000885, 0.19421443343162537, 0.5131924152374268, 0.16511407494544983, 0.12271992117166519, 0.1494951844215393, 0.04908796772360802, 0.9901047348976135, 0.9990759491920471, 0.9909284114837646, 0.9895116090774536, 0.8773291110992432, 0.12166087329387665, 0.9969751834869385, 0.09164269268512726, 0.9049715995788574, 0.9914641976356506, 0.9993529915809631, 0.9938828349113464, 0.9968411922454834, 0.9928547143936157, 0.9987311363220215, 0.9941890835762024, 0.9850659370422363, 0.36379802227020264, 0.6347904205322266, 0.4569709599018097, 0.2507936954498291, 0.18852324783802032, 0.10367708653211594, 0.9891883134841919, 0.996131420135498, 0.9972714781761169, 0.997829020023346, 0.9995108246803284, 0.9990822672843933, 0.9991774559020996, 0.9977725744247437, 0.9852861166000366, 0.9977359771728516, 0.9984753131866455, 0.9211018681526184, 0.07829152047634125, 0.9989645481109619, 0.9805031418800354, 0.019437287002801895, 0.03601472079753876, 0.3269028663635254, 0.03601472079753876, 0.09511580318212509, 0.09234543889760971, 0.41370758414268494, 0.9986811280250549, 0.9985229969024658, 0.9989969730377197, 0.3587581515312195, 0.5271751880645752, 0.11460330337285995, 0.993736982345581, 0.9953792691230774, 0.9982664585113525, 0.9948910474777222, 0.9976399540901184, 0.17022879421710968, 0.745223879814148, 0.08511439710855484, 0.9985620379447937, 0.9966526627540588, 0.997255802154541, 0.7726228833198547, 0.2260333001613617, 0.09536993503570557, 0.9020406603813171, 0.9948115944862366, 0.14477115869522095, 0.8548392057418823, 0.3211112320423126, 0.08698272705078125, 0.3537297546863556, 0.028269385918974876, 0.0855330154299736, 0.049290213733911514, 0.07466017454862595, 0.995612382888794, 0.9988019466400146, 0.9899624586105347, 0.9878256320953369, 0.04136758670210838, 0.726887583732605, 0.029548276215791702, 0.20092827081680298, 0.9966868162155151, 0.9995205998420715, 0.9937883615493774, 0.9988425374031067, 0.9975358247756958, 0.9960190057754517, 0.23000559210777283, 0.16912175714969635, 0.5993674993515015, 0.99689120054245, 0.9996609687805176, 0.9989620447158813, 0.8578944206237793, 0.04030376300215721, 0.10075940936803818, 0.08219144493341446, 0.1840433031320572, 0.050516337156295776, 0.22309106588363647, 0.2654155492782593, 0.17066329717636108, 0.02402939274907112, 0.09892694652080536, 0.36800825595855713, 0.08210936933755875, 0.3234911262989044, 0.055399090051651, 0.04946347326040268, 0.022753197699785233, 0.21062268316745758, 0.7894204258918762, 0.15227064490318298, 0.23399783670902252, 0.1651749461889267, 0.2770121395587921, 0.11097691208124161, 0.06022002920508385, 0.9942517876625061, 0.9957966208457947, 0.822857677936554, 0.17416313290596008, 0.9987264275550842, 0.9983209371566772, 0.14582310616970062, 0.8514187932014465, 0.9993727207183838, 0.21449075639247894, 0.7852334380149841, 0.4417397379875183, 0.04749274253845215, 0.43658992648124695, 0.07438622415065765, 0.9876833558082581, 0.998619556427002, 0.9945055842399597, 0.9935577511787415, 0.9961593747138977, 0.008713172748684883, 0.12322916090488434, 0.3348347842693329, 0.4954061210155487, 0.037342168390750885, 0.9987856149673462, 0.9942460656166077, 0.9990842938423157, 0.9948781728744507, 0.1250639706850052, 0.8737802505493164, 0.9986692070960999, 0.9949819445610046, 0.05735423415899277, 0.939175546169281, 0.1467979997396469, 0.8532633781433105, 0.25712841749191284, 0.24903589487075806, 0.06641975045204163, 0.07130580395460129, 0.08962848782539368, 0.13039647042751312, 0.13604597747325897, 0.2600850462913513, 0.12366006523370743, 0.08815766125917435, 0.07718781381845474, 0.22657716274261475, 0.13203704357147217, 0.09214669466018677, 0.9985698461532593, 0.9280001521110535, 0.06969171017408371, 0.9944877624511719, 0.9929684400558472, 0.9903577566146851, 0.7654966115951538, 0.23495440185070038, 0.9903876185417175, 0.9965601563453674, 0.01818396896123886, 0.9796613454818726, 0.09675224870443344, 0.6998412609100342, 0.061276424676179886, 0.14297832548618317, 0.9970520734786987, 0.9979251623153687, 0.9967433214187622, 0.2074560970067978, 0.7919237613677979, 0.9992899298667908, 0.9945033192634583, 0.9923190474510193, 0.9971071481704712, 0.9915369749069214, 0.24800825119018555, 0.751060426235199, 0.4433358907699585, 0.02443583682179451, 0.530606746673584, 0.9984877109527588, 0.9978922009468079, 0.9983378648757935, 0.9985265731811523, 0.45647338032722473, 0.2355467528104782, 0.02436690591275692, 0.09042829275131226, 0.1494503617286682, 0.043860431760549545, 0.9963269829750061, 0.12493541091680527, 0.22584478557109833, 0.6487030982971191, 0.9965133666992188, 0.9986732006072998, 0.31197789311408997, 0.42049193382263184, 0.0933539941906929, 0.17394164204597473, 0.9888045191764832, 0.7955446839332581, 0.20089511573314667, 0.9992674589157104, 0.9958972334861755, 0.9966066479682922, 0.9960092902183533, 0.10352720320224762, 0.8936032056808472, 0.9920644760131836, 0.9977108836174011, 0.2306070625782013, 0.7473866939544678, 0.021778425201773643, 0.9927371144294739, 0.9977150559425354, 0.9983386397361755, 0.21797657012939453, 0.21557241678237915, 0.09135782718658447, 0.14464989304542542, 0.21637380123138428, 0.06972044706344604, 0.04487752914428711, 0.10817945003509521, 0.22745423018932343, 0.6629458665847778, 0.23949094116687775, 0.7588081359863281, 0.9910715222358704, 0.19594071805477142, 0.235722616314888, 0.23987893760204315, 0.0706574097275734, 0.04987581819295883, 0.12172074615955353, 0.08668892085552216, 0.37511390447616577, 0.08786451816558838, 0.12222179770469666, 0.09631302952766418, 0.12841737270355225, 0.11095711588859558, 0.07941600680351257, 0.9989472031593323, 0.2084212303161621, 0.7904276847839355, 0.9942046403884888, 0.9979391098022461, 0.07604766637086868, 0.9236622452735901, 0.9993547201156616, 0.9953076243400574, 0.9993662238121033, 0.9993239045143127, 0.9964178204536438, 0.9986802935600281, 0.9975905418395996, 0.9897868037223816, 0.060097672045230865, 0.1296844482421875, 0.8065740466117859, 0.9974122047424316, 0.2783052623271942, 0.10960806906223297, 0.046910449862480164, 0.057284876704216, 0.114569753408432, 0.1926034837961197, 0.20027154684066772, 0.2660219967365265, 0.21557697653770447, 0.051738474518060684, 0.16426965594291687, 0.21902620792388916, 0.083212710916996, 0.0531216599047184, 0.9446417093276978, 0.9915231466293335, 0.9953567385673523, 0.9937861561775208, 0.3520900309085846, 0.6461887359619141, 0.9995346069335938, 0.14251752197742462, 0.4622683525085449, 0.049332987517118454, 0.07399947941303253, 0.21834413707256317, 0.05298728123307228, 0.9989156126976013, 0.9984936714172363, 0.9987244009971619, 0.9996187090873718, 0.991485595703125, 0.23454102873802185, 0.5968543887138367, 0.16802939772605896, 0.11172354221343994, 0.4271782636642456, 0.04403221979737282, 0.05126139149069786, 0.028916681185364723, 0.33648502826690674, 0.9954037070274353, 0.9989505410194397, 0.08040464669466019, 0.6866557002067566, 0.23317347466945648, 0.04967787116765976, 0.5298972725868225, 0.28771767020225525, 0.13247431814670563, 0.10759212076663971, 0.589311420917511, 0.1051468476653099, 0.033622536808252335, 0.16383345425128937, 0.9921290874481201, 0.7663564085960388, 0.23259428143501282, 0.9990347623825073, 0.9986865520477295, 0.9992782473564148, 0.9700891971588135, 0.02935796231031418, 0.9997327923774719, 0.1740444004535675, 0.265311598777771, 0.09508766978979111, 0.16470544040203094, 0.30054497718811035, 0.04886259138584137, 0.19545036554336548, 0.27528220415115356, 0.140393927693367, 0.1452113687992096, 0.021334370598196983, 0.1734277904033661, 0.3392452001571655, 0.09091895073652267, 0.07514729350805283, 0.009741315618157387, 0.3803751766681671, 0.1045258641242981, 0.11743882298469543, 0.8786163926124573, 0.9903106689453125, 0.09156545251607895, 0.03959587216377258, 0.09898968040943146, 0.7300488948822021, 0.04207061603665352, 0.9956438541412354, 0.9977878332138062, 0.9966055750846863, 0.1622636765241623, 0.44796720147132874, 0.055747028440237045, 0.05524928867816925, 0.11696921288967133, 0.1612681895494461, 0.9945558309555054, 0.2514856159687042, 0.7478734850883484, 0.9985710382461548, 0.995932400226593, 0.993394672870636, 0.9976009130477905, 0.9933760762214661, 0.9897743463516235, 0.2315986603498459, 0.018478617072105408, 0.6787811517715454, 0.07021874189376831, 0.14414054155349731, 0.04746090993285179, 0.30585920810699463, 0.5027340650558472, 0.9948363900184631, 0.9933653473854065, 0.14029915630817413, 0.7308310270309448, 0.12882013618946075, 0.9976016283035278, 0.9947665929794312, 0.9974566102027893, 0.9987953305244446, 0.9973450303077698, 0.9952703714370728, 0.9955279231071472, 0.21640418469905853, 0.7806985974311829, 0.1319025456905365, 0.864308774471283, 0.9974838495254517, 0.3257347047328949, 0.6716476678848267, 0.9977574944496155, 0.9897801876068115, 0.35129767656326294, 0.64802485704422, 0.07449030876159668, 0.5031252503395081, 0.2127392739057541, 0.20958290994167328, 0.9962236285209656, 0.9928814768791199, 0.2882672846317291, 0.4599500298500061, 0.07027014344930649, 0.13095799088478088, 0.05030703544616699, 0.20455008745193481, 0.3533988893032074, 0.20080547034740448, 0.16523154079914093, 0.012170028872787952, 0.06365860998630524, 0.9947046637535095, 0.9980031847953796, 0.9985779523849487, 0.9977849721908569, 0.8255221247673035, 0.09187936037778854, 0.08213458210229874, 0.9928529858589172, 0.9981371760368347, 0.9981355667114258, 0.7103914618492126, 0.28929969668388367, 0.8492766618728638, 0.14914126694202423, 0.9888181090354919, 0.9946870803833008, 0.9896675944328308, 0.8575366139411926, 0.14000597596168518, 0.995877206325531, 0.9976828098297119, 0.9950367212295532, 0.8207184076309204, 0.17714959383010864, 0.9968984127044678, 0.9923174381256104, 0.9970816969871521, 0.8386315107345581, 0.15850424766540527, 0.45226067304611206, 0.09081178903579712, 0.29041787981987, 0.16633841395378113, 0.4159978926181793, 0.12621094286441803, 0.4575146436691284, 0.09560064226388931, 0.8997707366943359, 0.1026553362607956, 0.14309531450271606, 0.752805769443512, 0.8240138292312622, 0.1755216419696808, 0.9932031631469727, 0.7349792718887329, 0.26427698135375977, 0.9970297813415527, 0.9946222305297852, 0.22691814601421356, 0.24350063502788544, 0.22037243843078613, 0.14575126767158508, 0.09469468891620636, 0.06851182878017426, 0.6827595829963684, 0.3154664635658264, 0.21665793657302856, 0.15198393166065216, 0.18432092666625977, 0.13581542670726776, 0.06014683097600937, 0.15866690874099731, 0.09248383343219757, 0.989435076713562, 0.9994773864746094, 0.5255221128463745, 0.219946950674057, 0.2535266578197479, 0.9995136857032776, 0.1735215187072754, 0.8234919309616089, 0.7087278962135315, 0.29104116559028625, 0.9949406981468201, 0.6496160626411438, 0.27215832471847534, 0.07613953202962875, 0.1689169704914093, 0.042229242622852325, 0.15739990770816803, 0.1593194156885147, 0.3359144330024719, 0.13628529012203217, 0.9878889322280884, 0.9952545762062073, 0.8582534790039062, 0.14122094213962555, 0.9978261590003967, 0.2814721465110779, 0.09330934286117554, 0.18948635458946228, 0.20845703780651093, 0.02492660842835903, 0.13411839306354523, 0.06838273257017136, 0.9953116774559021, 0.9426156282424927, 0.056016091257333755, 0.15379025042057037, 0.05213971436023712, 0.30407530069351196, 0.018840400502085686, 0.11172796040773392, 0.14239837229251862, 0.21688368916511536, 0.9948596358299255, 0.996705174446106, 0.9944633841514587, 0.9969823956489563, 0.9976955652236938, 0.9967876076698303, 0.9956074357032776, 0.9995099902153015, 0.9975374937057495, 0.6602463126182556, 0.33956626057624817, 0.9961080551147461, 0.9994940161705017, 0.1971989870071411, 0.15519817173480988, 0.1603202223777771, 0.190028116106987, 0.1490517109632492, 0.08809928596019745, 0.059415798634290695, 0.15871527791023254, 0.8385457396507263, 0.27178192138671875, 0.2628169059753418, 0.031141679733991623, 0.055205706506967545, 0.11277062445878983, 0.08681923151016235, 0.17930057644844055, 0.6304992437362671, 0.36934569478034973, 0.12185145914554596, 0.714492678642273, 0.16283786296844482, 0.0788799598813057, 0.921239972114563, 0.9970362782478333, 0.9995620846748352, 0.10208683460950851, 0.5222703218460083, 0.37579789757728577, 0.1595182567834854, 0.24829363822937012, 0.1481439173221588, 0.1267823427915573, 0.1428728699684143, 0.13260821998119354, 0.04189088195562363, 0.9950940608978271, 0.9180209040641785, 0.07836763560771942, 0.9979435801506042, 0.24228735268115997, 0.1257229894399643, 0.1565292775630951, 0.05911478400230408, 0.05453546717762947, 0.14487284421920776, 0.21689297258853912, 0.9982327222824097], \"Term\": [\"absorbent\", \"acceleration\", \"accurate\", \"adapter\", \"adapter\", \"air\", \"air\", \"amazon\", \"amazon\", \"amazon\", \"amazon\", \"amazon\", \"amazon\", \"amp\", \"anco\", \"app\", \"application\", \"application\", \"application\", \"application\", \"application\", \"application\", \"application\", \"applicator\", \"applicator\", \"apply\", \"arm\", \"arm\", \"automatic\", \"backing\", \"bag\", \"bag\", \"bar\", \"bar\", \"battery\", \"beam\", \"black\", \"black\", \"black\", \"black\", \"black\", \"blade\", \"block\", \"blow\", \"blue\", \"blue\", \"blue\", \"bluetooth\", \"board\", \"board\", \"board\", \"bosch\", \"bottle\", \"bottle\", \"bottle\", \"box\", \"box\", \"box\", \"box\", \"box\", \"bra\", \"bright\", \"brightness\", \"bristle\", \"brush\", \"brush\", \"bucket\", \"buff\", \"buff\", \"buffer\", \"bulb\", \"burner\", \"button\", \"cabin\", \"cable\", \"camco\", \"camera\", \"cap\", \"cap\", \"car\", \"car\", \"car\", \"car\", \"cargo\", \"carpet\", \"cell\", \"chamois\", \"change\", \"charge\", \"charger\", \"chemical\", \"chip\", \"cigarette\", \"clay\", \"clean\", \"clean\", \"cleaner\", \"cleaning\", \"cleaning\", \"clear\", \"clear\", \"clear\", \"clear\", \"clear\", \"clear\", \"cloth\", \"coat\", \"code\", \"color\", \"color\", \"color\", \"compact\", \"compound\", \"compressor\", \"computer\", \"conditioner\", \"connector\", \"connector\", \"connector\", \"contact\", \"coolant\", \"cord\", \"cover\", \"cover\", \"cup\", \"cup\", \"cutting\", \"datum\", \"datum\", \"day\", \"day\", \"day\", \"day\", \"day\", \"day\", \"day\", \"dead\", \"dealer\", \"dealership\", \"defender\", \"design\", \"design\", \"design\", \"design\", \"detailer\", \"device\", \"digital\", \"dirt\", \"dish\", \"display\", \"door\", \"door\", \"door\", \"drill\", \"dry\", \"dust\", \"duty\", \"duty\", \"duty\", \"easy\", \"easy\", \"easy\", \"easy\", \"easy\", \"easy\", \"easy\", \"end\", \"end\", \"end\", \"end\", \"end\", \"end\", \"end\", \"engine\", \"engine\", \"enough\", \"enough\", \"enough\", \"enough\", \"enough\", \"enough\", \"extension\", \"fabric\", \"factory\", \"factory\", \"family\", \"fiber\", \"film\", \"film\", \"filter\", \"finish\", \"finish\", \"fit\", \"fit\", \"fit\", \"fit\", \"flimsy\", \"fluid\", \"fog\", \"force\", \"frame\", \"front\", \"front\", \"front\", \"front\", \"front\", \"fuel\", \"funnel\", \"fuse\", \"gap\", \"gas\", \"gas\", \"gauge\", \"gear\", \"gloss\", \"gloss\", \"glove\", \"glove\", \"good\", \"good\", \"good\", \"good\", \"good\", \"good\", \"good\", \"great\", \"great\", \"great\", \"great\", \"great\", \"great\", \"great\", \"griot\", \"grip\", \"grip\", \"grit\", \"gun\", \"halogen\", \"handle\", \"handle\", \"harley\", \"haze\", \"headlight\", \"headlight\", \"heavy\", \"heavy\", \"heavy\", \"heavy\", \"helmet\", \"hid\", \"hitch\", \"honda\", \"honda\", \"hose\", \"icon\", \"incandescent\", \"information\", \"insert\", \"install\", \"install\", \"installation\", \"installation\", \"installation\", \"inverter\", \"iphone\", \"jack\", \"jeep\", \"job\", \"job\", \"job\", \"job\", \"job\", \"job\", \"jump\", \"kit\", \"kit\", \"kit\", \"kitchen\", \"laptop\", \"large\", \"large\", \"large\", \"large\", \"latch\", \"leak\", \"leak\", \"leather\", \"led\", \"lens\", \"lense\", \"level\", \"level\", \"license\", \"lift\", \"light\", \"light\", \"light\", \"lighting\", \"link\", \"lint\", \"little\", \"little\", \"little\", \"little\", \"little\", \"little\", \"little\", \"local\", \"local\", \"local\", \"lock\", \"lock\", \"logo\", \"long\", \"long\", \"long\", \"long\", \"long\", \"long\", \"long\", \"lot\", \"lot\", \"lot\", \"lot\", \"lot\", \"lot\", \"lot\", \"mat\", \"material\", \"material\", \"mechanism\", \"medium\", \"meguiar\", \"meguiar\", \"metal\", \"meter\", \"microfiber\", \"mile\", \"mileage\", \"mitt\", \"modern\", \"monitor\", \"mount\", \"mount\", \"mount\", \"mpg\", \"new\", \"new\", \"new\", \"new\", \"new\", \"new\", \"new\", \"nice\", \"nice\", \"nice\", \"nice\", \"nice\", \"nice\", \"night\", \"night\", \"nissan\", \"nut\", \"obd\", \"oem\", \"oem\", \"oil\", \"one\", \"one\", \"one\", \"one\", \"one\", \"one\", \"outlet\", \"output\", \"pad\", \"paint\", \"pan\", \"panel\", \"panel\", \"panel\", \"part\", \"part\", \"part\", \"part\", \"part\", \"part\", \"paste\", \"phone\", \"piece\", \"piece\", \"piece\", \"place\", \"place\", \"place\", \"place\", \"plastic\", \"plastic\", \"plastic\", \"plastic\", \"plastic\", \"play\", \"plug\", \"plug\", \"polish\", \"polisher\", \"port\", \"power\", \"power\", \"pressure\", \"price\", \"price\", \"price\", \"price\", \"price\", \"problem\", \"problem\", \"problem\", \"problem\", \"problem\", \"problem\", \"problem\", \"product\", \"product\", \"product\", \"product\", \"product\", \"product\", \"professional\", \"professional\", \"proof\", \"protection\", \"protection\", \"protection\", \"protection\", \"protection\", \"psi\", \"pump\", \"purple\", \"quality\", \"quality\", \"quality\", \"quality\", \"quality\", \"quality\", \"quart\", \"rain\", \"rain\", \"ramp\", \"receiver\", \"remote\", \"report\", \"residue\", \"resistant\", \"result\", \"result\", \"result\", \"result\", \"road\", \"road\", \"road\", \"road\", \"rod\", \"royal\", \"rubber\", \"rubber\", \"rubber\", \"sander\", \"sandpaper\", \"scan\", \"scanner\", \"scent\", \"score\", \"scraper\", \"scratch\", \"scratch\", \"screen\", \"screen\", \"sealant\", \"sensor\", \"sensor\", \"sewer\", \"sharp\", \"shine\", \"shine\", \"side\", \"side\", \"side\", \"side\", \"signal\", \"situation\", \"size\", \"size\", \"size\", \"size\", \"size\", \"small\", \"small\", \"small\", \"small\", \"small\", \"small\", \"smart\", \"smell\", \"snow\", \"soap\", \"soft\", \"soft\", \"soft\", \"software\", \"solar\", \"sponge\", \"spray\", \"spray\", \"spring\", \"spring\", \"stabilizer\", \"stain\", \"stainless\", \"steel\", \"steel\", \"steering\", \"step\", \"sticker\", \"stock\", \"stock\", \"storage\", \"stove\", \"strap\", \"strip\", \"strip\", \"stuff\", \"stuff\", \"stuff\", \"stuff\", \"surface\", \"surface\", \"surface\", \"swirl\", \"swirl\", \"synthetic\", \"synthetic\", \"synthetic\", \"tank\", \"tank\", \"tap\", \"tape\", \"tape\", \"tender\", \"terminal\", \"thing\", \"thing\", \"thing\", \"thing\", \"thing\", \"thing\", \"tight\", \"tight\", \"time\", \"time\", \"time\", \"time\", \"time\", \"time\", \"time\", \"tint\", \"tire\", \"tool\", \"tool\", \"tool\", \"towel\", \"toyota\", \"toyota\", \"trailer\", \"trailer\", \"transmission\", \"trip\", \"trip\", \"trip\", \"truck\", \"truck\", \"truck\", \"truck\", \"truck\", \"truck\", \"turtle\", \"ultimate\", \"unit\", \"unit\", \"usb\", \"use\", \"use\", \"use\", \"use\", \"use\", \"use\", \"use\", \"vacuum\", \"valve\", \"valve\", \"vehicle\", \"vehicle\", \"vehicle\", \"vehicle\", \"vehicle\", \"vehicle\", \"vehicle\", \"vent\", \"vinyl\", \"visibility\", \"vision\", \"visor\", \"volt\", \"voltage\", \"wash\", \"washing\", \"water\", \"water\", \"watt\", \"wax\", \"way\", \"way\", \"way\", \"way\", \"way\", \"way\", \"way\", \"weight\", \"weight\", \"well\", \"well\", \"well\", \"well\", \"well\", \"well\", \"well\", \"wheel\", \"wheel\", \"white\", \"white\", \"white\", \"windshield\", \"windshield\", \"wipe\", \"wiper\", \"wire\", \"wire\", \"wire\", \"work\", \"work\", \"work\", \"work\", \"work\", \"work\", \"work\", \"wrangler\", \"wrap\", \"wrap\", \"wrench\", \"year\", \"year\", \"year\", \"year\", \"year\", \"year\", \"year\", \"zubie\"]}, \"R\": 30, \"lambda.step\": 0.01, \"plot.opts\": {\"xlab\": \"PC1\", \"ylab\": \"PC2\"}, \"topic.order\": [6, 2, 3, 5, 4, 7, 1]};\n",
       "\n",
       "function LDAvis_load_lib(url, callback){\n",
       "  var s = document.createElement('script');\n",
       "  s.src = url;\n",
       "  s.async = true;\n",
       "  s.onreadystatechange = s.onload = callback;\n",
       "  s.onerror = function(){console.warn(\"failed to load library \" + url);};\n",
       "  document.getElementsByTagName(\"head\")[0].appendChild(s);\n",
       "}\n",
       "\n",
       "if(typeof(LDAvis) !== \"undefined\"){\n",
       "   // already loaded: just create the visualization\n",
       "   !function(LDAvis){\n",
       "       new LDAvis(\"#\" + \"ldavis_el896024197434048249796826776\", ldavis_el896024197434048249796826776_data);\n",
       "   }(LDAvis);\n",
       "}else if(typeof define === \"function\" && define.amd){\n",
       "   // require.js is available: use it to load d3/LDAvis\n",
       "   require.config({paths: {d3: \"https://cdnjs.cloudflare.com/ajax/libs/d3/3.5.5/d3.min\"}});\n",
       "   require([\"d3\"], function(d3){\n",
       "      window.d3 = d3;\n",
       "      LDAvis_load_lib(\"https://cdn.rawgit.com/bmabey/pyLDAvis/files/ldavis.v1.0.0.js\", function(){\n",
       "        new LDAvis(\"#\" + \"ldavis_el896024197434048249796826776\", ldavis_el896024197434048249796826776_data);\n",
       "      });\n",
       "    });\n",
       "}else{\n",
       "    // require.js not available: dynamically load d3 & LDAvis\n",
       "    LDAvis_load_lib(\"https://cdnjs.cloudflare.com/ajax/libs/d3/3.5.5/d3.min.js\", function(){\n",
       "         LDAvis_load_lib(\"https://cdn.rawgit.com/bmabey/pyLDAvis/files/ldavis.v1.0.0.js\", function(){\n",
       "                 new LDAvis(\"#\" + \"ldavis_el896024197434048249796826776\", ldavis_el896024197434048249796826776_data);\n",
       "            })\n",
       "         });\n",
       "}\n",
       "</script>"
      ],
      "text/plain": [
       "PreparedData(topic_coordinates=              x         y  topics  cluster       Freq\n",
       "topic                                                \n",
       "5     -0.104031 -0.073863       1        1  18.999260\n",
       "1      0.110651 -0.059701       2        1  16.071581\n",
       "2      0.014437  0.183839       3        1  15.866820\n",
       "4      0.193956 -0.069072       4        1  14.347395\n",
       "3      0.115940 -0.012833       5        1  12.579307\n",
       "6     -0.211951 -0.160483       6        1  11.313566\n",
       "0     -0.119002  0.192113       7        1  10.822073, topic_info=     Category         Freq        Term        Total  loglift  logprob\n",
       "150   Default  4913.000000       light  4913.000000  30.0000  30.0000\n",
       "38    Default  3046.000000     battery  3046.000000  29.0000  29.0000\n",
       "3     Default  9346.000000         car  9346.000000  28.0000  28.0000\n",
       "523   Default  2150.000000         wax  2150.000000  27.0000  27.0000\n",
       "168   Default  2102.000000         oil  2102.000000  26.0000  26.0000\n",
       "333   Default  2215.000000        tire  2215.000000  25.0000  25.0000\n",
       "936   Default  2328.000000       wiper  2328.000000  24.0000  24.0000\n",
       "963   Default  2320.000000       blade  2320.000000  23.0000  23.0000\n",
       "527   Default  2526.000000       towel  2526.000000  22.0000  22.0000\n",
       "314   Default  6467.000000     product  6467.000000  21.0000  21.0000\n",
       "2595  Default  1735.000000        bulb  1735.000000  20.0000  20.0000\n",
       "975   Default  1550.000000      filter  1550.000000  19.0000  19.0000\n",
       "95    Default  2337.000000       clean  2337.000000  18.0000  18.0000\n",
       "726   Default  1486.000000        hose  1486.000000  17.0000  17.0000\n",
       "522   Default  2594.000000       water  2594.000000  16.0000  16.0000\n",
       "646   Default  1305.000000       paint  1305.000000  15.0000  15.0000\n",
       "63    Default  1566.000000       power  1566.000000  14.0000  14.0000\n",
       "1281  Default  1227.000000      bright  1227.000000  13.0000  13.0000\n",
       "1324  Default  1477.000000     leather  1477.000000  12.0000  12.0000\n",
       "1086  Default   986.000000      change   986.000000  11.0000  11.0000\n",
       "759   Default  1175.000000      device  1175.000000  10.0000  10.0000\n",
       "118   Default  1205.000000      engine  1205.000000   9.0000   9.0000\n",
       "708   Default   952.000000         pad   952.000000   8.0000   8.0000\n",
       "521   Default  1180.000000        wash  1180.000000   7.0000   7.0000\n",
       "1113  Default   993.000000    pressure   993.000000   6.0000   6.0000\n",
       "1565  Default  1456.000000         kit  1456.000000   5.0000   5.0000\n",
       "472   Default  1137.000000     install  1137.000000   4.0000   4.0000\n",
       "731   Default  1189.000000        unit  1189.000000   3.0000   3.0000\n",
       "110   Default   990.000000         dry   990.000000   2.0000   2.0000\n",
       "526   Default   989.000000  microfiber   989.000000   1.0000   1.0000\n",
       "...       ...          ...         ...          ...      ...      ...\n",
       "1704   Topic7   108.211426      nissan   108.923325   2.2170  -6.3072\n",
       "2594   Topic7   112.527710      sander   113.271667   2.2170  -6.2681\n",
       "4838   Topic7   107.424385        tint   108.142517   2.2169  -6.3145\n",
       "3105   Topic7   101.527794      modern   102.246361   2.2165  -6.3709\n",
       "665    Topic7   100.258461      harley   100.970566   2.2165  -6.3835\n",
       "1603   Topic7    96.371216  stabilizer    97.085602   2.2162  -6.4231\n",
       "1126   Topic7    81.626816    steering    82.339470   2.2149  -6.5891\n",
       "1071   Topic7   524.254883         gas   599.693115   2.0891  -4.7293\n",
       "118    Topic7   951.822815      engine  1205.947998   1.9869  -4.1329\n",
       "3122   Topic7   371.850891       datum   435.169556   2.0663  -5.0728\n",
       "1087   Topic7   397.188782       honda   501.310883   1.9908  -5.0069\n",
       "1103   Topic7   279.995331      toyota   340.015472   2.0294  -5.3565\n",
       "1371   Topic7   241.812607   synthetic   321.464050   1.9389  -5.5031\n",
       "1670   Topic7   312.352783         oem   482.831055   1.7880  -5.2471\n",
       "751    Topic7   233.140549      sensor   346.908081   1.8262  -5.5396\n",
       "85     Topic7   521.438904      amazon  1258.741943   1.3423  -4.7347\n",
       "860    Topic7   238.708191       local   360.512085   1.8113  -5.5160\n",
       "18     Topic7   707.507141       price  2355.720703   1.0207  -4.4295\n",
       "169    Topic7   512.321045        part  1521.613037   1.1350  -4.7523\n",
       "8      Topic7   891.427612        good  6549.256836   0.2293  -4.1984\n",
       "3      Topic7   969.401062         car  9346.327148  -0.0425  -4.1146\n",
       "271    Topic7   521.093140        year  2402.106445   0.6954  -4.7353\n",
       "212    Topic7   495.052032     vehicle  2282.329346   0.6953  -4.7866\n",
       "504    Topic7   372.619598         air  1155.171387   1.0921  -5.0707\n",
       "314    Topic7   675.538635     product  6467.298828  -0.0354  -4.4758\n",
       "16     Topic7   444.483459         new  2216.989990   0.6166  -4.8944\n",
       "9      Topic7   462.261261       great  5013.744629  -0.1602  -4.8551\n",
       "334    Topic7   380.461700        well  2119.346191   0.5061  -5.0499\n",
       "21     Topic7   429.273560        time  4638.648438  -0.1565  -4.9292\n",
       "30     Topic7   323.942627     quality  2009.075684   0.3987  -5.2107\n",
       "\n",
       "[435 rows x 6 columns], token_table=       Topic      Freq          Term\n",
       "term                                \n",
       "1292       1  0.996285     absorbent\n",
       "1649       7  0.994538  acceleration\n",
       "1164       4  0.997961      accurate\n",
       "2802       2  0.267406       adapter\n",
       "2802       3  0.731239       adapter\n",
       "504        4  0.676956           air\n",
       "504        7  0.322896           air\n",
       "85         1  0.115194        amazon\n",
       "85         2  0.141411        amazon\n",
       "85         3  0.143794        amazon\n",
       "85         4  0.056406        amazon\n",
       "85         5  0.128700        amazon\n",
       "85         7  0.413905        amazon\n",
       "86         3  0.998335           amp\n",
       "6340       2  0.997635          anco\n",
       "6940       3  0.998905           app\n",
       "941        1  0.191089   application\n",
       "941        2  0.055962   application\n",
       "941        3  0.158331   application\n",
       "941        4  0.025934   application\n",
       "941        5  0.025934   application\n",
       "941        6  0.499562   application\n",
       "941        7  0.043678   application\n",
       "3330       1  0.068910    applicator\n",
       "3330       6  0.928255    applicator\n",
       "972        6  0.990590         apply\n",
       "1581       1  0.193090           arm\n",
       "1581       4  0.806944           arm\n",
       "2873       7  0.999419     automatic\n",
       "2014       6  0.996384       backing\n",
       "...      ...       ...           ...\n",
       "720        4  0.369346         wheel\n",
       "601        1  0.121851         white\n",
       "601        5  0.714493         white\n",
       "601        6  0.162838         white\n",
       "935        1  0.078880    windshield\n",
       "935        2  0.921240    windshield\n",
       "534        1  0.997036          wipe\n",
       "936        2  0.999562         wiper\n",
       "81         2  0.102087          wire\n",
       "81         3  0.522270          wire\n",
       "81         5  0.375798          wire\n",
       "218        1  0.159518          work\n",
       "218        2  0.248294          work\n",
       "218        3  0.148144          work\n",
       "218        4  0.126782          work\n",
       "218        5  0.142873          work\n",
       "218        6  0.132608          work\n",
       "218        7  0.041891          work\n",
       "887        5  0.995094      wrangler\n",
       "2139       2  0.918021          wrap\n",
       "2139       6  0.078368          wrap\n",
       "2608       7  0.997944        wrench\n",
       "271        1  0.242287          year\n",
       "271        2  0.125723          year\n",
       "271        3  0.156529          year\n",
       "271        4  0.059115          year\n",
       "271        5  0.054535          year\n",
       "271        6  0.144873          year\n",
       "271        7  0.216893          year\n",
       "16406      3  0.998233         zubie\n",
       "\n",
       "[667 rows x 3 columns], R=30, lambda_step=0.01, plot_opts={'xlab': 'PC1', 'ylab': 'PC2'}, topic_order=[6, 2, 3, 5, 4, 7, 1])"
      ]
     },
     "execution_count": 20,
     "metadata": {},
     "output_type": "execute_result"
    }
   ],
   "source": [
    "# Visualize the topics\n",
    "pyLDAvis.enable_notebook()\n",
    "vis = pyLDAvis.gensim.prepare(lda_model, doc_term_matrix, dictionary)\n",
    "vis"
   ]
  },
  {
   "cell_type": "code",
   "execution_count": null,
   "metadata": {},
   "outputs": [],
   "source": []
  }
 ],
 "metadata": {
  "kernelspec": {
   "display_name": "Python 3",
   "language": "python",
   "name": "python3"
  },
  "language_info": {
   "codemirror_mode": {
    "name": "ipython",
    "version": 3
   },
   "file_extension": ".py",
   "mimetype": "text/x-python",
   "name": "python",
   "nbconvert_exporter": "python",
   "pygments_lexer": "ipython3",
   "version": "3.7.3"
  }
 },
 "nbformat": 4,
 "nbformat_minor": 2
}
