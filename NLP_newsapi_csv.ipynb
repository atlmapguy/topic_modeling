{
 "cells": [
  {
   "cell_type": "code",
   "execution_count": null,
   "metadata": {},
   "outputs": [],
   "source": []
  },
  {
   "cell_type": "code",
   "execution_count": 1,
   "metadata": {},
   "outputs": [
    {
     "data": {
      "application/vnd.jupyter.widget-view+json": {
       "model_id": "e6ae63a905f14168aa3479ba40d2465b",
       "version_major": 2,
       "version_minor": 0
      },
      "text/plain": [
       "HBox(children=(IntProgress(value=0, max=57), HTML(value='')))"
      ]
     },
     "metadata": {},
     "output_type": "display_data"
    },
    {
     "name": "stdout",
     "output_type": "stream",
     "text": [
      "Rate limit exceeded ... please wait and retry in 6 hours\n",
      "\n"
     ]
    }
   ],
   "source": [
    "import requests\n",
    "from bs4 import BeautifulSoup\n",
    "import pandas as pd\n",
    "from datetime import datetime\n",
    "from tqdm import tqdm, tqdm_notebook\n",
    "from functools import reduce\n",
    "\n",
    "def getSources():\n",
    "    source_url = 'https://newsapi.org/v1/sources?language=en'\n",
    "    response = requests.get(source_url).json()\n",
    "    sources = []\n",
    "    for source in response['sources']:\n",
    "        sources.append(source['id'])\n",
    "    return sources\n",
    "\n",
    "def mapping():\n",
    "    d = {}\n",
    "    response = requests.get('https://newsapi.org/v1/sources?language=en')\n",
    "    response = response.json()\n",
    "    for s in response['sources']:\n",
    "        d[s['id']] = s['category']\n",
    "    return d\n",
    "\n",
    "def category(source, m):\n",
    "    try:\n",
    "        return m[source]\n",
    "    except:\n",
    "        return 'NC'\n",
    "\n",
    "def getDailyNews():\n",
    "    sources = getSources()\n",
    "    key = '93ce952dcfd5461186eec8885b840325'\n",
    "    url = 'https://newsapi.org/v1/articles?source={0}&sortBy={1}&apiKey={2}'\n",
    "    responses = []\n",
    "    for i, source in tqdm_notebook(enumerate(sources), total=len(sources)):\n",
    "        \n",
    "        try:\n",
    "            u = url.format(source, 'top', key)\n",
    "        except:\n",
    "            u = url.format(source, 'latest', key)\n",
    "        \n",
    "        response = requests.get(u)\n",
    "        r = response.json()\n",
    "        try:\n",
    "            for article in r['articles']:\n",
    "                article['source'] = source\n",
    "            responses.append(r)\n",
    "        except:\n",
    "            print('Rate limit exceeded ... please wait and retry in 6 hours')\n",
    "            return None\n",
    "                \n",
    "    articles = list(map(lambda r: r['articles'], responses))\n",
    "    articles = list(reduce(lambda x,y: x+y, articles))\n",
    "    \n",
    "    news = pd.DataFrame(articles)\n",
    "    news = news.dropna()\n",
    "    news = news.drop_duplicates()\n",
    "    news.reset_index(inplace=True, drop=True)\n",
    "    d = mapping()\n",
    "    news['category'] = news['source'].map(lambda s: category(s, d))\n",
    "    news['scraping_date'] = datetime.now()\n",
    "\n",
    "    try:\n",
    "        aux = pd.read_csv('news.csv')\n",
    "        aux = aux.append(news)\n",
    "        aux = aux.drop_duplicates('url')\n",
    "        aux.reset_index(inplace=True, drop=True)\n",
    "        aux.to_csv('news.csv', encoding='utf-8', index=False)\n",
    "    except:\n",
    "        news.to_csv('news2.csv', index=False, encoding='utf-8')\n",
    "        \n",
    "    print('Done')\n",
    "    \n",
    "if __name__=='__main__':\n",
    "    getDailyNews()"
   ]
  },
  {
   "cell_type": "code",
   "execution_count": null,
   "metadata": {},
   "outputs": [],
   "source": [
    "# import packages\n",
    "from __future__ import print_function\n",
    "import requests\n",
    "import pandas as pd\n",
    "from datetime import datetime\n",
    "from tqdm import tqdm\n",
    "from matplotlib import pyplot as plt"
   ]
  },
  {
   "cell_type": "code",
   "execution_count": 2,
   "metadata": {},
   "outputs": [
    {
     "data": {
      "application/vnd.jupyter.widget-view+json": {
       "model_id": "b6b72b29d727491aaef8cb14caf72c14",
       "version_major": 2,
       "version_minor": 0
      },
      "text/plain": [
       "HBox(children=(IntProgress(value=1, bar_style='info', max=1), HTML(value='')))"
      ]
     },
     "metadata": {},
     "output_type": "display_data"
    },
    {
     "name": "stdout",
     "output_type": "stream",
     "text": [
      "\n"
     ]
    }
   ],
   "source": [
    "import pandas as pd\n",
    "pd.options.display.max_columns = 200\n",
    "pd.options.mode.chained_assignment = None\n",
    "\n",
    "from nltk.tokenize import word_tokenize, sent_tokenize\n",
    "from nltk.corpus import stopwords\n",
    "stop = set(stopwords.words('english'))\n",
    "from string import punctuation\n",
    "\n",
    "from collections import Counter\n",
    "import re\n",
    "import numpy as np\n",
    "\n",
    "from tqdm import tqdm_notebook\n",
    "tqdm_notebook().pandas()"
   ]
  },
  {
   "cell_type": "code",
   "execution_count": 3,
   "metadata": {},
   "outputs": [
    {
     "name": "stdout",
     "output_type": "stream",
     "text": [
      "(2052, 9)\n"
     ]
    }
   ],
   "source": [
    "data = pd.read_csv('news.csv')\n",
    "print(data.shape)"
   ]
  },
  {
   "cell_type": "code",
   "execution_count": 4,
   "metadata": {},
   "outputs": [
    {
     "data": {
      "text/html": [
       "<div>\n",
       "<style scoped>\n",
       "    .dataframe tbody tr th:only-of-type {\n",
       "        vertical-align: middle;\n",
       "    }\n",
       "\n",
       "    .dataframe tbody tr th {\n",
       "        vertical-align: top;\n",
       "    }\n",
       "\n",
       "    .dataframe thead th {\n",
       "        text-align: right;\n",
       "    }\n",
       "</style>\n",
       "<table border=\"1\" class=\"dataframe\">\n",
       "  <thead>\n",
       "    <tr style=\"text-align: right;\">\n",
       "      <th></th>\n",
       "      <th>author</th>\n",
       "      <th>description</th>\n",
       "      <th>publishedAt</th>\n",
       "      <th>source</th>\n",
       "      <th>title</th>\n",
       "      <th>url</th>\n",
       "      <th>urlToImage</th>\n",
       "      <th>category</th>\n",
       "      <th>scraping_date</th>\n",
       "    </tr>\n",
       "  </thead>\n",
       "  <tbody>\n",
       "    <tr>\n",
       "      <th>2042</th>\n",
       "      <td>Rebecca Ballhaus, Siobhan Hughes, Dustin Volz</td>\n",
       "      <td>President also called on China to investigate ...</td>\n",
       "      <td>2019-10-04T16:14:00Z</td>\n",
       "      <td>the-wall-street-journal</td>\n",
       "      <td>Trump Administration Used Potential Meeting to...</td>\n",
       "      <td>https://www.wsj.com/articles/trump-administrat...</td>\n",
       "      <td>https://images.wsj.net/im-113846/social</td>\n",
       "      <td>business</td>\n",
       "      <td>2019-10-04 13:55:44.237614</td>\n",
       "    </tr>\n",
       "    <tr>\n",
       "      <th>2043</th>\n",
       "      <td>Alexandra Bruell, Suzanne Vranica</td>\n",
       "      <td>Entertainment giants are set to spend hundreds...</td>\n",
       "      <td>2019-10-04T14:28:00Z</td>\n",
       "      <td>the-wall-street-journal</td>\n",
       "      <td>Disney Bans Netflix Ads as Streaming’s Marketi...</td>\n",
       "      <td>https://www.wsj.com/articles/disney-bans-netfl...</td>\n",
       "      <td>https://images.wsj.net/im-113163/social</td>\n",
       "      <td>business</td>\n",
       "      <td>2019-10-04 13:55:44.237614</td>\n",
       "    </tr>\n",
       "    <tr>\n",
       "      <th>2044</th>\n",
       "      <td>Natasha Khan, Joyu Wang</td>\n",
       "      <td>Leader Carrie Lam invokes colonial-era emergen...</td>\n",
       "      <td>2019-10-04T07:38:00Z</td>\n",
       "      <td>the-wall-street-journal</td>\n",
       "      <td>Street Battles Break Out After Hong Kong Bans ...</td>\n",
       "      <td>https://www.wsj.com/articles/hong-kong-says-up...</td>\n",
       "      <td>https://images.wsj.net/im-113863/social</td>\n",
       "      <td>business</td>\n",
       "      <td>2019-10-04 13:55:44.237614</td>\n",
       "    </tr>\n",
       "    <tr>\n",
       "      <th>2045</th>\n",
       "      <td>Melanie Evans, Anna Wilde Mathews</td>\n",
       "      <td>Genetic scans provide lots of information, but...</td>\n",
       "      <td>2019-10-04T15:16:00Z</td>\n",
       "      <td>the-wall-street-journal</td>\n",
       "      <td>Doctors Decide What To Tell Patients About The...</td>\n",
       "      <td>https://www.wsj.com/articles/doctors-decide-wh...</td>\n",
       "      <td>https://images.wsj.net/im-113502/social</td>\n",
       "      <td>business</td>\n",
       "      <td>2019-10-04 13:55:44.237614</td>\n",
       "    </tr>\n",
       "    <tr>\n",
       "      <th>2046</th>\n",
       "      <td>Alex Leary</td>\n",
       "      <td>Raises $45 million online for re-election bid ...</td>\n",
       "      <td>2019-10-04T15:52:00Z</td>\n",
       "      <td>the-wall-street-journal</td>\n",
       "      <td>Trump’s Online Fundraising Surges</td>\n",
       "      <td>https://www.wsj.com/articles/trump-re-election...</td>\n",
       "      <td>https://images.wsj.net/im-113822/social</td>\n",
       "      <td>business</td>\n",
       "      <td>2019-10-04 13:55:44.237614</td>\n",
       "    </tr>\n",
       "    <tr>\n",
       "      <th>2047</th>\n",
       "      <td>Dustin Volz</td>\n",
       "      <td>The Democratic National Committee sent an aler...</td>\n",
       "      <td>2019-10-04T16:11:00Z</td>\n",
       "      <td>the-wall-street-journal</td>\n",
       "      <td>Presidential Campaign Targeted by Suspected Ir...</td>\n",
       "      <td>https://www.wsj.com/articles/presidential-camp...</td>\n",
       "      <td>https://images.wsj.net/im-113845/social</td>\n",
       "      <td>business</td>\n",
       "      <td>2019-10-04 13:55:44.237614</td>\n",
       "    </tr>\n",
       "    <tr>\n",
       "      <th>2048</th>\n",
       "      <td>Jason Zweig</td>\n",
       "      <td>Schwab made a big splash this past week by eli...</td>\n",
       "      <td>2019-10-04T14:33:00Z</td>\n",
       "      <td>the-wall-street-journal</td>\n",
       "      <td>Your Stock Trades Go Free but Your Cash Is in ...</td>\n",
       "      <td>https://www.wsj.com/articles/your-stock-trades...</td>\n",
       "      <td>https://si.wsj.net/public/resources/images/B3-...</td>\n",
       "      <td>business</td>\n",
       "      <td>2019-10-04 13:55:44.237614</td>\n",
       "    </tr>\n",
       "    <tr>\n",
       "      <th>2049</th>\n",
       "      <td>Azra Raza</td>\n",
       "      <td>Most patients continue to face excruciating, i...</td>\n",
       "      <td>2019-10-04T16:25:00Z</td>\n",
       "      <td>the-wall-street-journal</td>\n",
       "      <td>Cancer Is Still Beating Us—We Need a New Start</td>\n",
       "      <td>https://www.wsj.com/articles/cancer-is-still-b...</td>\n",
       "      <td>https://si.wsj.net/public/resources/images/B3-...</td>\n",
       "      <td>business</td>\n",
       "      <td>2019-10-04 13:55:44.237614</td>\n",
       "    </tr>\n",
       "    <tr>\n",
       "      <th>2050</th>\n",
       "      <td>CHRISTOPHER RUGABER / AP</td>\n",
       "      <td>U.S. employers added a modest 136,000 jobs in ...</td>\n",
       "      <td>2019-10-04T14:07:19Z</td>\n",
       "      <td>time</td>\n",
       "      <td>Unemployment Rate Hits 50-Year Low, But Hiring...</td>\n",
       "      <td>http://time.com/5692797/september-jobs-numbers/</td>\n",
       "      <td>https://timedotcom.files.wordpress.com/2019/10...</td>\n",
       "      <td>general</td>\n",
       "      <td>2019-10-04 13:55:44.237614</td>\n",
       "    </tr>\n",
       "    <tr>\n",
       "      <th>2051</th>\n",
       "      <td>YURAS KARMANAU / AP</td>\n",
       "      <td>Ukraine’s prosecutors office is reviewing prev...</td>\n",
       "      <td>2019-10-04T13:51:41Z</td>\n",
       "      <td>time</td>\n",
       "      <td>Ukraine Reviews Closed Case Into Gas Company T...</td>\n",
       "      <td>http://time.com/5692777/ukraine-gas-company-ca...</td>\n",
       "      <td>https://timedotcom.files.wordpress.com/2019/10...</td>\n",
       "      <td>general</td>\n",
       "      <td>2019-10-04 13:55:44.237614</td>\n",
       "    </tr>\n",
       "  </tbody>\n",
       "</table>\n",
       "</div>"
      ],
      "text/plain": [
       "                                             author  \\\n",
       "2042  Rebecca Ballhaus, Siobhan Hughes, Dustin Volz   \n",
       "2043              Alexandra Bruell, Suzanne Vranica   \n",
       "2044                        Natasha Khan, Joyu Wang   \n",
       "2045              Melanie Evans, Anna Wilde Mathews   \n",
       "2046                                     Alex Leary   \n",
       "2047                                    Dustin Volz   \n",
       "2048                                    Jason Zweig   \n",
       "2049                                      Azra Raza   \n",
       "2050                       CHRISTOPHER RUGABER / AP   \n",
       "2051                            YURAS KARMANAU / AP   \n",
       "\n",
       "                                            description           publishedAt  \\\n",
       "2042  President also called on China to investigate ...  2019-10-04T16:14:00Z   \n",
       "2043  Entertainment giants are set to spend hundreds...  2019-10-04T14:28:00Z   \n",
       "2044  Leader Carrie Lam invokes colonial-era emergen...  2019-10-04T07:38:00Z   \n",
       "2045  Genetic scans provide lots of information, but...  2019-10-04T15:16:00Z   \n",
       "2046  Raises $45 million online for re-election bid ...  2019-10-04T15:52:00Z   \n",
       "2047  The Democratic National Committee sent an aler...  2019-10-04T16:11:00Z   \n",
       "2048  Schwab made a big splash this past week by eli...  2019-10-04T14:33:00Z   \n",
       "2049  Most patients continue to face excruciating, i...  2019-10-04T16:25:00Z   \n",
       "2050  U.S. employers added a modest 136,000 jobs in ...  2019-10-04T14:07:19Z   \n",
       "2051  Ukraine’s prosecutors office is reviewing prev...  2019-10-04T13:51:41Z   \n",
       "\n",
       "                       source  \\\n",
       "2042  the-wall-street-journal   \n",
       "2043  the-wall-street-journal   \n",
       "2044  the-wall-street-journal   \n",
       "2045  the-wall-street-journal   \n",
       "2046  the-wall-street-journal   \n",
       "2047  the-wall-street-journal   \n",
       "2048  the-wall-street-journal   \n",
       "2049  the-wall-street-journal   \n",
       "2050                     time   \n",
       "2051                     time   \n",
       "\n",
       "                                                  title  \\\n",
       "2042  Trump Administration Used Potential Meeting to...   \n",
       "2043  Disney Bans Netflix Ads as Streaming’s Marketi...   \n",
       "2044  Street Battles Break Out After Hong Kong Bans ...   \n",
       "2045  Doctors Decide What To Tell Patients About The...   \n",
       "2046                  Trump’s Online Fundraising Surges   \n",
       "2047  Presidential Campaign Targeted by Suspected Ir...   \n",
       "2048  Your Stock Trades Go Free but Your Cash Is in ...   \n",
       "2049     Cancer Is Still Beating Us—We Need a New Start   \n",
       "2050  Unemployment Rate Hits 50-Year Low, But Hiring...   \n",
       "2051  Ukraine Reviews Closed Case Into Gas Company T...   \n",
       "\n",
       "                                                    url  \\\n",
       "2042  https://www.wsj.com/articles/trump-administrat...   \n",
       "2043  https://www.wsj.com/articles/disney-bans-netfl...   \n",
       "2044  https://www.wsj.com/articles/hong-kong-says-up...   \n",
       "2045  https://www.wsj.com/articles/doctors-decide-wh...   \n",
       "2046  https://www.wsj.com/articles/trump-re-election...   \n",
       "2047  https://www.wsj.com/articles/presidential-camp...   \n",
       "2048  https://www.wsj.com/articles/your-stock-trades...   \n",
       "2049  https://www.wsj.com/articles/cancer-is-still-b...   \n",
       "2050    http://time.com/5692797/september-jobs-numbers/   \n",
       "2051  http://time.com/5692777/ukraine-gas-company-ca...   \n",
       "\n",
       "                                             urlToImage  category  \\\n",
       "2042            https://images.wsj.net/im-113846/social  business   \n",
       "2043            https://images.wsj.net/im-113163/social  business   \n",
       "2044            https://images.wsj.net/im-113863/social  business   \n",
       "2045            https://images.wsj.net/im-113502/social  business   \n",
       "2046            https://images.wsj.net/im-113822/social  business   \n",
       "2047            https://images.wsj.net/im-113845/social  business   \n",
       "2048  https://si.wsj.net/public/resources/images/B3-...  business   \n",
       "2049  https://si.wsj.net/public/resources/images/B3-...  business   \n",
       "2050  https://timedotcom.files.wordpress.com/2019/10...   general   \n",
       "2051  https://timedotcom.files.wordpress.com/2019/10...   general   \n",
       "\n",
       "                   scraping_date  \n",
       "2042  2019-10-04 13:55:44.237614  \n",
       "2043  2019-10-04 13:55:44.237614  \n",
       "2044  2019-10-04 13:55:44.237614  \n",
       "2045  2019-10-04 13:55:44.237614  \n",
       "2046  2019-10-04 13:55:44.237614  \n",
       "2047  2019-10-04 13:55:44.237614  \n",
       "2048  2019-10-04 13:55:44.237614  \n",
       "2049  2019-10-04 13:55:44.237614  \n",
       "2050  2019-10-04 13:55:44.237614  \n",
       "2051  2019-10-04 13:55:44.237614  "
      ]
     },
     "execution_count": 4,
     "metadata": {},
     "output_type": "execute_result"
    }
   ],
   "source": [
    "data.tail(10)"
   ]
  },
  {
   "cell_type": "code",
   "execution_count": 5,
   "metadata": {
    "scrolled": true
   },
   "outputs": [
    {
     "data": {
      "text/plain": [
       "<matplotlib.axes._subplots.AxesSubplot at 0x28008440d68>"
      ]
     },
     "execution_count": 5,
     "metadata": {},
     "output_type": "execute_result"
    }
   ],
   "source": [
    "data.category.value_counts(normalize=True).plot(kind='bar', grid=True, figsize=(8, 5))"
   ]
  },
  {
   "cell_type": "code",
   "execution_count": 6,
   "metadata": {},
   "outputs": [
    {
     "data": {
      "text/plain": [
       "<matplotlib.axes._subplots.AxesSubplot at 0x2800a6d5828>"
      ]
     },
     "execution_count": 6,
     "metadata": {},
     "output_type": "execute_result"
    },
    {
     "data": {
      "image/png": "[encoded data removed]",
      "text/plain": [
       "<Figure size 1152x648 with 1 Axes>"
      ]
     },
     "metadata": {
      "needs_background": "light"
     },
     "output_type": "display_data"
    }
   ],
   "source": [
    "data.category.value_counts(normalize=True).plot(kind='bar', grid=True, figsize=(16, 9))"
   ]
  },
  {
   "cell_type": "code",
   "execution_count": 7,
   "metadata": {},
   "outputs": [],
   "source": [
    "data = data.drop_duplicates('description')"
   ]
  },
  {
   "cell_type": "code",
   "execution_count": 8,
   "metadata": {},
   "outputs": [
    {
     "name": "stdout",
     "output_type": "stream",
     "text": [
      "(1936, 9)\n"
     ]
    }
   ],
   "source": [
    "data = data[~data['description'].isnull()]\n",
    "\n",
    "print(data.shape)"
   ]
  },
  {
   "cell_type": "code",
   "execution_count": 9,
   "metadata": {},
   "outputs": [
    {
     "name": "stdout",
     "output_type": "stream",
     "text": [
      "(834, 9)\n"
     ]
    }
   ],
   "source": [
    "data = data[(data.description.map(len) > 140) & (data.description.map(len) <= 300)]\n",
    "data.reset_index(inplace=True, drop=True)\n",
    "\n",
    "print(data.shape)"
   ]
  },
  {
   "cell_type": "code",
   "execution_count": 10,
   "metadata": {},
   "outputs": [
    {
     "data": {
      "text/plain": [
       "<matplotlib.axes._subplots.AxesSubplot at 0x2800a71e518>"
      ]
     },
     "execution_count": 10,
     "metadata": {},
     "output_type": "execute_result"
    },
    {
     "data": {
      "image/png": "[encoded data removed]",
      "text/plain": [
       "<Figure size 1080x360 with 1 Axes>"
      ]
     },
     "metadata": {
      "needs_background": "light"
     },
     "output_type": "display_data"
    }
   ],
   "source": [
    "data.description.map(len).hist(figsize=(15, 5), bins=100)"
   ]
  },
  {
   "cell_type": "code",
   "execution_count": 11,
   "metadata": {},
   "outputs": [
    {
     "data": {
      "text/html": [
       "<div>\n",
       "<style scoped>\n",
       "    .dataframe tbody tr th:only-of-type {\n",
       "        vertical-align: middle;\n",
       "    }\n",
       "\n",
       "    .dataframe tbody tr th {\n",
       "        vertical-align: top;\n",
       "    }\n",
       "\n",
       "    .dataframe thead th {\n",
       "        text-align: right;\n",
       "    }\n",
       "</style>\n",
       "<table border=\"1\" class=\"dataframe\">\n",
       "  <thead>\n",
       "    <tr style=\"text-align: right;\">\n",
       "      <th></th>\n",
       "      <th>author</th>\n",
       "      <th>description</th>\n",
       "      <th>publishedAt</th>\n",
       "      <th>source</th>\n",
       "      <th>title</th>\n",
       "      <th>url</th>\n",
       "      <th>urlToImage</th>\n",
       "      <th>category</th>\n",
       "      <th>scraping_date</th>\n",
       "    </tr>\n",
       "  </thead>\n",
       "  <tbody>\n",
       "    <tr>\n",
       "      <th>0</th>\n",
       "      <td>SYLVIE CORBET and LORI HINNANT</td>\n",
       "      <td>PARIS (AP) — An employee armed with a knife at...</td>\n",
       "      <td>2019-10-03T11:54:57Z</td>\n",
       "      <td>associated-press</td>\n",
       "      <td>Knife attack by employee at Paris police HQ ki...</td>\n",
       "      <td>https://apnews.com/6cf2774600ca4ef3a517d84a351...</td>\n",
       "      <td>https://storage.googleapis.com/afs-prod/media/...</td>\n",
       "      <td>general</td>\n",
       "      <td>2019-10-03 09:58:28.267961</td>\n",
       "    </tr>\n",
       "    <tr>\n",
       "      <th>1</th>\n",
       "      <td>Megan Rose Dickey</td>\n",
       "      <td>Stephen Curry, along with SC 30, Inc. Presiden...</td>\n",
       "      <td>2019-10-04T16:00:22Z</td>\n",
       "      <td>techcrunch</td>\n",
       "      <td>Stephen Curry invests in Guild Education</td>\n",
       "      <td>https://techcrunch.com/2019/10/04/stephen-curr...</td>\n",
       "      <td>https://techcrunch.com/wp-content/uploads/2019...</td>\n",
       "      <td>technology</td>\n",
       "      <td>2019-10-04 13:55:44.237614</td>\n",
       "    </tr>\n",
       "    <tr>\n",
       "      <th>2</th>\n",
       "      <td>Dan Bloom</td>\n",
       "      <td>Lindsay Hoyle and Harriet Harman are among the...</td>\n",
       "      <td>2019-09-10T14:25:24Z</td>\n",
       "      <td>mirror</td>\n",
       "      <td>All the candidates to be Speaker after John Be...</td>\n",
       "      <td>https://www.mirror.co.uk/news/politics/who-rep...</td>\n",
       "      <td>https://i2-prod.mirror.co.uk/incoming/article1...</td>\n",
       "      <td>general</td>\n",
       "      <td>2019-09-10 12:48:21.852603</td>\n",
       "    </tr>\n",
       "    <tr>\n",
       "      <th>3</th>\n",
       "      <td>Adam Maya</td>\n",
       "      <td>Saquon Barkley, who's been determined to beat ...</td>\n",
       "      <td>2019-10-04T16:49:00Z</td>\n",
       "      <td>nfl-news</td>\n",
       "      <td>Giants RB Saquon Barkley ruled out versus Vikings</td>\n",
       "      <td>http://www.nfl.com/news/story/0ap3000001061893...</td>\n",
       "      <td>http://static.nfl.com/static/content/public/ph...</td>\n",
       "      <td>sports</td>\n",
       "      <td>2019-10-04 13:55:44.237614</td>\n",
       "    </tr>\n",
       "    <tr>\n",
       "      <th>4</th>\n",
       "      <td>Silvia Amaro</td>\n",
       "      <td>U.S. government debt prices were lower Tuesday...</td>\n",
       "      <td>2019-09-10T09:10:41Z</td>\n",
       "      <td>cnbc</td>\n",
       "      <td>US Treasury yields higher ahead of fresh data</td>\n",
       "      <td>https://www.cnbc.com/2019/09/10/us-treasury-yi...</td>\n",
       "      <td>https://image.cnbcfm.com/api/v1/image/10607734...</td>\n",
       "      <td>business</td>\n",
       "      <td>2019-09-10 07:39:46.933801</td>\n",
       "    </tr>\n",
       "  </tbody>\n",
       "</table>\n",
       "</div>"
      ],
      "text/plain": [
       "                           author  \\\n",
       "0  SYLVIE CORBET and LORI HINNANT   \n",
       "1               Megan Rose Dickey   \n",
       "2                       Dan Bloom   \n",
       "3                       Adam Maya   \n",
       "4                    Silvia Amaro   \n",
       "\n",
       "                                         description           publishedAt  \\\n",
       "0  PARIS (AP) — An employee armed with a knife at...  2019-10-03T11:54:57Z   \n",
       "1  Stephen Curry, along with SC 30, Inc. Presiden...  2019-10-04T16:00:22Z   \n",
       "2  Lindsay Hoyle and Harriet Harman are among the...  2019-09-10T14:25:24Z   \n",
       "3  Saquon Barkley, who's been determined to beat ...  2019-10-04T16:49:00Z   \n",
       "4  U.S. government debt prices were lower Tuesday...  2019-09-10T09:10:41Z   \n",
       "\n",
       "             source                                              title  \\\n",
       "0  associated-press  Knife attack by employee at Paris police HQ ki...   \n",
       "1        techcrunch           Stephen Curry invests in Guild Education   \n",
       "2            mirror  All the candidates to be Speaker after John Be...   \n",
       "3          nfl-news  Giants RB Saquon Barkley ruled out versus Vikings   \n",
       "4              cnbc      US Treasury yields higher ahead of fresh data   \n",
       "\n",
       "                                                 url  \\\n",
       "0  https://apnews.com/6cf2774600ca4ef3a517d84a351...   \n",
       "1  https://techcrunch.com/2019/10/04/stephen-curr...   \n",
       "2  https://www.mirror.co.uk/news/politics/who-rep...   \n",
       "3  http://www.nfl.com/news/story/0ap3000001061893...   \n",
       "4  https://www.cnbc.com/2019/09/10/us-treasury-yi...   \n",
       "\n",
       "                                          urlToImage    category  \\\n",
       "0  https://storage.googleapis.com/afs-prod/media/...     general   \n",
       "1  https://techcrunch.com/wp-content/uploads/2019...  technology   \n",
       "2  https://i2-prod.mirror.co.uk/incoming/article1...     general   \n",
       "3  http://static.nfl.com/static/content/public/ph...      sports   \n",
       "4  https://image.cnbcfm.com/api/v1/image/10607734...    business   \n",
       "\n",
       "                scraping_date  \n",
       "0  2019-10-03 09:58:28.267961  \n",
       "1  2019-10-04 13:55:44.237614  \n",
       "2  2019-09-10 12:48:21.852603  \n",
       "3  2019-10-04 13:55:44.237614  \n",
       "4  2019-09-10 07:39:46.933801  "
      ]
     },
     "execution_count": 11,
     "metadata": {},
     "output_type": "execute_result"
    }
   ],
   "source": [
    "data = data.sample(400, random_state=42)\n",
    "data.reset_index(inplace=True, drop=True)\n",
    "\n",
    "data.head(5)"
   ]
  },
  {
   "cell_type": "code",
   "execution_count": 12,
   "metadata": {},
   "outputs": [
    {
     "name": "stdout",
     "output_type": "stream",
     "text": [
      "669\n"
     ]
    }
   ],
   "source": [
    "stop_words = []\n",
    "\n",
    "f = open('./data/stopwords.txt', 'r')\n",
    "for l in f.readlines():\n",
    "    stop_words.append(l.replace('\\n', ''))\n",
    "    \n",
    "additional_stop_words = ['t', 'will']\n",
    "stop_words += additional_stop_words\n",
    "\n",
    "print(len(stop_words))"
   ]
  },
  {
   "cell_type": "code",
   "execution_count": 13,
   "metadata": {},
   "outputs": [],
   "source": [
    "def _removeNonAscii(s): \n",
    "    return \"\".join(i for i in s if ord(i)<128)\n",
    "\n",
    "def clean_text(text):\n",
    "    text = text.lower()\n",
    "    text = re.sub(r\"what's\", \"what is \", text)\n",
    "    text = text.replace('(ap)', '')\n",
    "    text = re.sub(r\"\\'s\", \" is \", text)\n",
    "    text = re.sub(r\"\\'ve\", \" have \", text)\n",
    "    text = re.sub(r\"can't\", \"cannot \", text)\n",
    "    text = re.sub(r\"n't\", \" not \", text)\n",
    "    text = re.sub(r\"i'm\", \"i am \", text)\n",
    "    text = re.sub(r\"\\'re\", \" are \", text)\n",
    "    text = re.sub(r\"\\'d\", \" would \", text)\n",
    "    text = re.sub(r\"\\'ll\", \" will \", text)\n",
    "    text = re.sub(r'\\W+', ' ', text)\n",
    "    text = re.sub(r'\\s+', ' ', text)\n",
    "    text = re.sub(r\"\\\\\", \"\", text)\n",
    "    text = re.sub(r\"\\'\", \"\", text)    \n",
    "    text = re.sub(r\"\\\"\", \"\", text)\n",
    "    text = re.sub('[^a-zA-Z ?!]+', '', text)\n",
    "    text = _removeNonAscii(text)\n",
    "    text = text.strip()\n",
    "    return text"
   ]
  },
  {
   "cell_type": "code",
   "execution_count": 14,
   "metadata": {},
   "outputs": [],
   "source": [
    "def tokenizer(text):\n",
    "    text = clean_text(text)    \n",
    "    tokens = [word_tokenize(sent) for sent in sent_tokenize(text)]\n",
    "    tokens = list(reduce(lambda x,y: x+y, tokens))\n",
    "    tokens = list(filter(lambda token: token not in (stop_words + list(punctuation)) , tokens))\n",
    "    return tokens"
   ]
  },
  {
   "cell_type": "code",
   "execution_count": 15,
   "metadata": {},
   "outputs": [],
   "source": [
    "def keywords(category):\n",
    "    tokens = data[data['category'] == category]['tokens']\n",
    "    alltokens = []\n",
    "    for token_list in tokens:\n",
    "        alltokens += token_list\n",
    "    counter = Counter(alltokens)\n",
    "    return counter.most_common(10)"
   ]
  },
  {
   "cell_type": "code",
   "execution_count": 16,
   "metadata": {},
   "outputs": [
    {
     "ename": "KeyError",
     "evalue": "'tokens'",
     "output_type": "error",
     "traceback": [
      "\u001b[1;31m---------------------------------------------------------------------------\u001b[0m",
      "\u001b[1;31mKeyError\u001b[0m                                  Traceback (most recent call last)",
      "\u001b[1;32m~\\AppData\\Local\\Continuum\\anaconda3\\lib\\site-packages\\pandas\\core\\indexes\\base.py\u001b[0m in \u001b[0;36mget_loc\u001b[1;34m(self, key, method, tolerance)\u001b[0m\n\u001b[0;32m   2656\u001b[0m             \u001b[1;32mtry\u001b[0m\u001b[1;33m:\u001b[0m\u001b[1;33m\u001b[0m\u001b[1;33m\u001b[0m\u001b[0m\n\u001b[1;32m-> 2657\u001b[1;33m                 \u001b[1;32mreturn\u001b[0m \u001b[0mself\u001b[0m\u001b[1;33m.\u001b[0m\u001b[0m_engine\u001b[0m\u001b[1;33m.\u001b[0m\u001b[0mget_loc\u001b[0m\u001b[1;33m(\u001b[0m\u001b[0mkey\u001b[0m\u001b[1;33m)\u001b[0m\u001b[1;33m\u001b[0m\u001b[1;33m\u001b[0m\u001b[0m\n\u001b[0m\u001b[0;32m   2658\u001b[0m             \u001b[1;32mexcept\u001b[0m \u001b[0mKeyError\u001b[0m\u001b[1;33m:\u001b[0m\u001b[1;33m\u001b[0m\u001b[1;33m\u001b[0m\u001b[0m\n",
      "\u001b[1;32mpandas/_libs/index.pyx\u001b[0m in \u001b[0;36mpandas._libs.index.IndexEngine.get_loc\u001b[1;34m()\u001b[0m\n",
      "\u001b[1;32mpandas/_libs/index.pyx\u001b[0m in \u001b[0;36mpandas._libs.index.IndexEngine.get_loc\u001b[1;34m()\u001b[0m\n",
      "\u001b[1;32mpandas/_libs/hashtable_class_helper.pxi\u001b[0m in \u001b[0;36mpandas._libs.hashtable.PyObjectHashTable.get_item\u001b[1;34m()\u001b[0m\n",
      "\u001b[1;32mpandas/_libs/hashtable_class_helper.pxi\u001b[0m in \u001b[0;36mpandas._libs.hashtable.PyObjectHashTable.get_item\u001b[1;34m()\u001b[0m\n",
      "\u001b[1;31mKeyError\u001b[0m: 'tokens'",
      "\nDuring handling of the above exception, another exception occurred:\n",
      "\u001b[1;31mKeyError\u001b[0m                                  Traceback (most recent call last)",
      "\u001b[1;32m<ipython-input-16-1e157ed5f87b>\u001b[0m in \u001b[0;36m<module>\u001b[1;34m\u001b[0m\n\u001b[0;32m      2\u001b[0m \u001b[1;33m\u001b[0m\u001b[0m\n\u001b[0;32m      3\u001b[0m \u001b[0mvectorizer\u001b[0m \u001b[1;33m=\u001b[0m \u001b[0mTfidfVectorizer\u001b[0m\u001b[1;33m(\u001b[0m\u001b[0mmin_df\u001b[0m\u001b[1;33m=\u001b[0m\u001b[1;36m5\u001b[0m\u001b[1;33m,\u001b[0m \u001b[0manalyzer\u001b[0m\u001b[1;33m=\u001b[0m\u001b[1;34m'word'\u001b[0m\u001b[1;33m,\u001b[0m \u001b[0mngram_range\u001b[0m\u001b[1;33m=\u001b[0m\u001b[1;33m(\u001b[0m\u001b[1;36m1\u001b[0m\u001b[1;33m,\u001b[0m \u001b[1;36m2\u001b[0m\u001b[1;33m)\u001b[0m\u001b[1;33m,\u001b[0m \u001b[0mstop_words\u001b[0m\u001b[1;33m=\u001b[0m\u001b[1;34m'english'\u001b[0m\u001b[1;33m)\u001b[0m\u001b[1;33m\u001b[0m\u001b[1;33m\u001b[0m\u001b[0m\n\u001b[1;32m----> 4\u001b[1;33m \u001b[0mvz\u001b[0m \u001b[1;33m=\u001b[0m \u001b[0mvectorizer\u001b[0m\u001b[1;33m.\u001b[0m\u001b[0mfit_transform\u001b[0m\u001b[1;33m(\u001b[0m\u001b[0mlist\u001b[0m\u001b[1;33m(\u001b[0m\u001b[0mdata\u001b[0m\u001b[1;33m[\u001b[0m\u001b[1;34m'tokens'\u001b[0m\u001b[1;33m]\u001b[0m\u001b[1;33m.\u001b[0m\u001b[0mmap\u001b[0m\u001b[1;33m(\u001b[0m\u001b[1;32mlambda\u001b[0m \u001b[0mtokens\u001b[0m\u001b[1;33m:\u001b[0m \u001b[1;34m' '\u001b[0m\u001b[1;33m.\u001b[0m\u001b[0mjoin\u001b[0m\u001b[1;33m(\u001b[0m\u001b[0mtokens\u001b[0m\u001b[1;33m)\u001b[0m\u001b[1;33m)\u001b[0m\u001b[1;33m)\u001b[0m\u001b[1;33m)\u001b[0m\u001b[1;33m\u001b[0m\u001b[1;33m\u001b[0m\u001b[0m\n\u001b[0m\u001b[0;32m      5\u001b[0m \u001b[1;33m\u001b[0m\u001b[0m\n\u001b[0;32m      6\u001b[0m \u001b[0mvz\u001b[0m\u001b[1;33m.\u001b[0m\u001b[0mshape\u001b[0m\u001b[1;33m\u001b[0m\u001b[1;33m\u001b[0m\u001b[0m\n",
      "\u001b[1;32m~\\AppData\\Local\\Continuum\\anaconda3\\lib\\site-packages\\pandas\\core\\frame.py\u001b[0m in \u001b[0;36m__getitem__\u001b[1;34m(self, key)\u001b[0m\n\u001b[0;32m   2925\u001b[0m             \u001b[1;32mif\u001b[0m \u001b[0mself\u001b[0m\u001b[1;33m.\u001b[0m\u001b[0mcolumns\u001b[0m\u001b[1;33m.\u001b[0m\u001b[0mnlevels\u001b[0m \u001b[1;33m>\u001b[0m \u001b[1;36m1\u001b[0m\u001b[1;33m:\u001b[0m\u001b[1;33m\u001b[0m\u001b[1;33m\u001b[0m\u001b[0m\n\u001b[0;32m   2926\u001b[0m                 \u001b[1;32mreturn\u001b[0m \u001b[0mself\u001b[0m\u001b[1;33m.\u001b[0m\u001b[0m_getitem_multilevel\u001b[0m\u001b[1;33m(\u001b[0m\u001b[0mkey\u001b[0m\u001b[1;33m)\u001b[0m\u001b[1;33m\u001b[0m\u001b[1;33m\u001b[0m\u001b[0m\n\u001b[1;32m-> 2927\u001b[1;33m             \u001b[0mindexer\u001b[0m \u001b[1;33m=\u001b[0m \u001b[0mself\u001b[0m\u001b[1;33m.\u001b[0m\u001b[0mcolumns\u001b[0m\u001b[1;33m.\u001b[0m\u001b[0mget_loc\u001b[0m\u001b[1;33m(\u001b[0m\u001b[0mkey\u001b[0m\u001b[1;33m)\u001b[0m\u001b[1;33m\u001b[0m\u001b[1;33m\u001b[0m\u001b[0m\n\u001b[0m\u001b[0;32m   2928\u001b[0m             \u001b[1;32mif\u001b[0m \u001b[0mis_integer\u001b[0m\u001b[1;33m(\u001b[0m\u001b[0mindexer\u001b[0m\u001b[1;33m)\u001b[0m\u001b[1;33m:\u001b[0m\u001b[1;33m\u001b[0m\u001b[1;33m\u001b[0m\u001b[0m\n\u001b[0;32m   2929\u001b[0m                 \u001b[0mindexer\u001b[0m \u001b[1;33m=\u001b[0m \u001b[1;33m[\u001b[0m\u001b[0mindexer\u001b[0m\u001b[1;33m]\u001b[0m\u001b[1;33m\u001b[0m\u001b[1;33m\u001b[0m\u001b[0m\n",
      "\u001b[1;32m~\\AppData\\Local\\Continuum\\anaconda3\\lib\\site-packages\\pandas\\core\\indexes\\base.py\u001b[0m in \u001b[0;36mget_loc\u001b[1;34m(self, key, method, tolerance)\u001b[0m\n\u001b[0;32m   2657\u001b[0m                 \u001b[1;32mreturn\u001b[0m \u001b[0mself\u001b[0m\u001b[1;33m.\u001b[0m\u001b[0m_engine\u001b[0m\u001b[1;33m.\u001b[0m\u001b[0mget_loc\u001b[0m\u001b[1;33m(\u001b[0m\u001b[0mkey\u001b[0m\u001b[1;33m)\u001b[0m\u001b[1;33m\u001b[0m\u001b[1;33m\u001b[0m\u001b[0m\n\u001b[0;32m   2658\u001b[0m             \u001b[1;32mexcept\u001b[0m \u001b[0mKeyError\u001b[0m\u001b[1;33m:\u001b[0m\u001b[1;33m\u001b[0m\u001b[1;33m\u001b[0m\u001b[0m\n\u001b[1;32m-> 2659\u001b[1;33m                 \u001b[1;32mreturn\u001b[0m \u001b[0mself\u001b[0m\u001b[1;33m.\u001b[0m\u001b[0m_engine\u001b[0m\u001b[1;33m.\u001b[0m\u001b[0mget_loc\u001b[0m\u001b[1;33m(\u001b[0m\u001b[0mself\u001b[0m\u001b[1;33m.\u001b[0m\u001b[0m_maybe_cast_indexer\u001b[0m\u001b[1;33m(\u001b[0m\u001b[0mkey\u001b[0m\u001b[1;33m)\u001b[0m\u001b[1;33m)\u001b[0m\u001b[1;33m\u001b[0m\u001b[1;33m\u001b[0m\u001b[0m\n\u001b[0m\u001b[0;32m   2660\u001b[0m         \u001b[0mindexer\u001b[0m \u001b[1;33m=\u001b[0m \u001b[0mself\u001b[0m\u001b[1;33m.\u001b[0m\u001b[0mget_indexer\u001b[0m\u001b[1;33m(\u001b[0m\u001b[1;33m[\u001b[0m\u001b[0mkey\u001b[0m\u001b[1;33m]\u001b[0m\u001b[1;33m,\u001b[0m \u001b[0mmethod\u001b[0m\u001b[1;33m=\u001b[0m\u001b[0mmethod\u001b[0m\u001b[1;33m,\u001b[0m \u001b[0mtolerance\u001b[0m\u001b[1;33m=\u001b[0m\u001b[0mtolerance\u001b[0m\u001b[1;33m)\u001b[0m\u001b[1;33m\u001b[0m\u001b[1;33m\u001b[0m\u001b[0m\n\u001b[0;32m   2661\u001b[0m         \u001b[1;32mif\u001b[0m \u001b[0mindexer\u001b[0m\u001b[1;33m.\u001b[0m\u001b[0mndim\u001b[0m \u001b[1;33m>\u001b[0m \u001b[1;36m1\u001b[0m \u001b[1;32mor\u001b[0m \u001b[0mindexer\u001b[0m\u001b[1;33m.\u001b[0m\u001b[0msize\u001b[0m \u001b[1;33m>\u001b[0m \u001b[1;36m1\u001b[0m\u001b[1;33m:\u001b[0m\u001b[1;33m\u001b[0m\u001b[1;33m\u001b[0m\u001b[0m\n",
      "\u001b[1;32mpandas/_libs/index.pyx\u001b[0m in \u001b[0;36mpandas._libs.index.IndexEngine.get_loc\u001b[1;34m()\u001b[0m\n",
      "\u001b[1;32mpandas/_libs/index.pyx\u001b[0m in \u001b[0;36mpandas._libs.index.IndexEngine.get_loc\u001b[1;34m()\u001b[0m\n",
      "\u001b[1;32mpandas/_libs/hashtable_class_helper.pxi\u001b[0m in \u001b[0;36mpandas._libs.hashtable.PyObjectHashTable.get_item\u001b[1;34m()\u001b[0m\n",
      "\u001b[1;32mpandas/_libs/hashtable_class_helper.pxi\u001b[0m in \u001b[0;36mpandas._libs.hashtable.PyObjectHashTable.get_item\u001b[1;34m()\u001b[0m\n",
      "\u001b[1;31mKeyError\u001b[0m: 'tokens'"
     ]
    }
   ],
   "source": [
    "from sklearn.feature_extraction.text import TfidfVectorizer\n",
    "\n",
    "vectorizer = TfidfVectorizer(min_df=5, analyzer='word', ngram_range=(1, 2), stop_words='english')\n",
    "vz = vectorizer.fit_transform(list(data['tokens'].map(lambda tokens: ' '.join(tokens))))\n",
    "\n",
    "vz.shape"
   ]
  },
  {
   "cell_type": "code",
   "execution_count": null,
   "metadata": {},
   "outputs": [],
   "source": []
  }
 ],
 "metadata": {
  "kernelspec": {
   "display_name": "Python 3",
   "language": "python",
   "name": "python3"
  },
  "language_info": {
   "codemirror_mode": {
    "name": "ipython",
    "version": 3
   },
   "file_extension": ".py",
   "mimetype": "text/x-python",
   "name": "python",
   "nbconvert_exporter": "python",
   "pygments_lexer": "ipython3",
   "version": "3.7.3"
  }
 },
 "nbformat": 4,
 "nbformat_minor": 2
}
